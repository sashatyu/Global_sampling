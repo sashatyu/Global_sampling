{
 "cells": [
  {
   "cell_type": "code",
   "execution_count": 1,
   "metadata": {},
   "outputs": [],
   "source": [
    "import pandas as pd\n",
    "import numpy as np"
   ]
  },
  {
   "cell_type": "markdown",
   "metadata": {},
   "source": [
    "### Area and accuracy estimation for equal probability sampling, from Tyukavina et al. (2025) \"Practical global sampling methods for estimating area and map accuracy of land cover and change\" https://doi.org/10.1016/j.rse.2025.114714, Appendix A.1.2"
   ]
  },
  {
   "cell_type": "markdown",
   "metadata": {},
   "source": [
    "#### Example of input data"
   ]
  },
  {
   "cell_type": "code",
   "execution_count": 2,
   "metadata": {},
   "outputs": [],
   "source": [
    "#Read strata info table with columns:\n",
    "#\"Stratum\": stratum ID, 1 - nstrata; for non-stratified sampling nstrata == 1 and thus only stratum ID = 1 should be used\n",
    "#\"Area\": stratum area in km2 or any other area units, needs to be consistend with pixel size area units in data table;\n",
    "strata = pd.read_csv('A.1.2.Strata_info.txt', sep = '\\t')"
   ]
  },
  {
   "cell_type": "code",
   "execution_count": 3,
   "metadata": {},
   "outputs": [
    {
     "data": {
      "text/html": [
       "<style type=\"text/css\">\n",
       "</style>\n",
       "<table id=\"T_61af1\">\n",
       "  <thead>\n",
       "    <tr>\n",
       "      <th id=\"T_61af1_level0_col0\" class=\"col_heading level0 col0\" >Stratum</th>\n",
       "      <th id=\"T_61af1_level0_col1\" class=\"col_heading level0 col1\" >Area</th>\n",
       "    </tr>\n",
       "  </thead>\n",
       "  <tbody>\n",
       "    <tr>\n",
       "      <td id=\"T_61af1_row0_col0\" class=\"data row0 col0\" >1</td>\n",
       "      <td id=\"T_61af1_row0_col1\" class=\"data row0 col1\" >595255.012800</td>\n",
       "    </tr>\n",
       "    <tr>\n",
       "      <td id=\"T_61af1_row1_col0\" class=\"data row1 col0\" >2</td>\n",
       "      <td id=\"T_61af1_row1_col1\" class=\"data row1 col1\" >332992.902600</td>\n",
       "    </tr>\n",
       "    <tr>\n",
       "      <td id=\"T_61af1_row2_col0\" class=\"data row2 col0\" >3</td>\n",
       "      <td id=\"T_61af1_row2_col1\" class=\"data row2 col1\" >946369.335100</td>\n",
       "    </tr>\n",
       "    <tr>\n",
       "      <td id=\"T_61af1_row3_col0\" class=\"data row3 col0\" >4</td>\n",
       "      <td id=\"T_61af1_row3_col1\" class=\"data row3 col1\" >486272.535600</td>\n",
       "    </tr>\n",
       "    <tr>\n",
       "      <td id=\"T_61af1_row4_col0\" class=\"data row4 col0\" >5</td>\n",
       "      <td id=\"T_61af1_row4_col1\" class=\"data row4 col1\" >669855.474600</td>\n",
       "    </tr>\n",
       "  </tbody>\n",
       "</table>\n"
      ],
      "text/plain": [
       "<pandas.io.formats.style.Styler at 0x2167bc1a450>"
      ]
     },
     "execution_count": 3,
     "metadata": {},
     "output_type": "execute_result"
    }
   ],
   "source": [
    "strata.head().style.hide(axis=\"index\")"
   ]
  },
  {
   "cell_type": "code",
   "execution_count": 4,
   "metadata": {},
   "outputs": [],
   "source": [
    "#Read sample interpretation table with columns:\n",
    "#\"Stratum\": stratum ID, 1 - nstrata; for non-stratified sampling nstrata == 1 and thus only stratum ID = 1 should be used\n",
    "#\"Pixarea\": area of each sample unit (in units that are desired for area reporting);\n",
    "#\"Map\"(for accuracy assessment only): proportion of target class from the map (0-1) for each sample unit;\n",
    "#\"Reference\": proportion of target class from reference sample classification for each sample unit;\n",
    "#allowed values are from -1 to 1 for area estimation, and from 0 to 1 for map accuracy assessment.\n",
    "#(optional)\"RefType\": type labels, if the are of target class needs to be estimated separately for multiple sub-types;\n",
    "#(optional)\"Correct\": proportion of sample unit (0-1), which is correctly mapped. \n",
    "#This column is necessary for maps with more than two classes. \n",
    "#For map with two classes it is computed in the function \"estimate_OA_two_classes\" directly from \"Map\" and \"Reference\" columns\n",
    "\n",
    "data = pd.read_csv('A.1.2.Sample_data.txt', sep ='\\t')"
   ]
  },
  {
   "cell_type": "code",
   "execution_count": 5,
   "metadata": {},
   "outputs": [],
   "source": [
    "#Merge data table with sample info table\n",
    "data = data.merge(strata)\n",
    "data = data.rename(columns = {'Area':'Ah','Pixarea':'ai'})"
   ]
  },
  {
   "cell_type": "code",
   "execution_count": 6,
   "metadata": {},
   "outputs": [
    {
     "data": {
      "text/html": [
       "<style type=\"text/css\">\n",
       "</style>\n",
       "<table id=\"T_94e33\">\n",
       "  <thead>\n",
       "    <tr>\n",
       "      <th id=\"T_94e33_level0_col0\" class=\"col_heading level0 col0\" >Stratum</th>\n",
       "      <th id=\"T_94e33_level0_col1\" class=\"col_heading level0 col1\" >ai</th>\n",
       "      <th id=\"T_94e33_level0_col2\" class=\"col_heading level0 col2\" >Map</th>\n",
       "      <th id=\"T_94e33_level0_col3\" class=\"col_heading level0 col3\" >Reference</th>\n",
       "      <th id=\"T_94e33_level0_col4\" class=\"col_heading level0 col4\" >RefType</th>\n",
       "      <th id=\"T_94e33_level0_col5\" class=\"col_heading level0 col5\" >Correct</th>\n",
       "      <th id=\"T_94e33_level0_col6\" class=\"col_heading level0 col6\" >Ah</th>\n",
       "    </tr>\n",
       "  </thead>\n",
       "  <tbody>\n",
       "    <tr>\n",
       "      <td id=\"T_94e33_row0_col0\" class=\"data row0 col0\" >10</td>\n",
       "      <td id=\"T_94e33_row0_col1\" class=\"data row0 col1\" >0.000638</td>\n",
       "      <td id=\"T_94e33_row0_col2\" class=\"data row0 col2\" >1.000000</td>\n",
       "      <td id=\"T_94e33_row0_col3\" class=\"data row0 col3\" >1.000000</td>\n",
       "      <td id=\"T_94e33_row0_col4\" class=\"data row0 col4\" >Type1</td>\n",
       "      <td id=\"T_94e33_row0_col5\" class=\"data row0 col5\" >1.000000</td>\n",
       "      <td id=\"T_94e33_row0_col6\" class=\"data row0 col6\" >161635.388000</td>\n",
       "    </tr>\n",
       "    <tr>\n",
       "      <td id=\"T_94e33_row1_col0\" class=\"data row1 col0\" >10</td>\n",
       "      <td id=\"T_94e33_row1_col1\" class=\"data row1 col1\" >0.000626</td>\n",
       "      <td id=\"T_94e33_row1_col2\" class=\"data row1 col2\" >1.000000</td>\n",
       "      <td id=\"T_94e33_row1_col3\" class=\"data row1 col3\" >1.000000</td>\n",
       "      <td id=\"T_94e33_row1_col4\" class=\"data row1 col4\" >Type1</td>\n",
       "      <td id=\"T_94e33_row1_col5\" class=\"data row1 col5\" >1.000000</td>\n",
       "      <td id=\"T_94e33_row1_col6\" class=\"data row1 col6\" >161635.388000</td>\n",
       "    </tr>\n",
       "    <tr>\n",
       "      <td id=\"T_94e33_row2_col0\" class=\"data row2 col0\" >10</td>\n",
       "      <td id=\"T_94e33_row2_col1\" class=\"data row2 col1\" >0.000769</td>\n",
       "      <td id=\"T_94e33_row2_col2\" class=\"data row2 col2\" >1.000000</td>\n",
       "      <td id=\"T_94e33_row2_col3\" class=\"data row2 col3\" >1.000000</td>\n",
       "      <td id=\"T_94e33_row2_col4\" class=\"data row2 col4\" >Type1</td>\n",
       "      <td id=\"T_94e33_row2_col5\" class=\"data row2 col5\" >1.000000</td>\n",
       "      <td id=\"T_94e33_row2_col6\" class=\"data row2 col6\" >161635.388000</td>\n",
       "    </tr>\n",
       "    <tr>\n",
       "      <td id=\"T_94e33_row3_col0\" class=\"data row3 col0\" >10</td>\n",
       "      <td id=\"T_94e33_row3_col1\" class=\"data row3 col1\" >0.000670</td>\n",
       "      <td id=\"T_94e33_row3_col2\" class=\"data row3 col2\" >1.000000</td>\n",
       "      <td id=\"T_94e33_row3_col3\" class=\"data row3 col3\" >1.000000</td>\n",
       "      <td id=\"T_94e33_row3_col4\" class=\"data row3 col4\" >Type1</td>\n",
       "      <td id=\"T_94e33_row3_col5\" class=\"data row3 col5\" >1.000000</td>\n",
       "      <td id=\"T_94e33_row3_col6\" class=\"data row3 col6\" >161635.388000</td>\n",
       "    </tr>\n",
       "    <tr>\n",
       "      <td id=\"T_94e33_row4_col0\" class=\"data row4 col0\" >10</td>\n",
       "      <td id=\"T_94e33_row4_col1\" class=\"data row4 col1\" >0.000649</td>\n",
       "      <td id=\"T_94e33_row4_col2\" class=\"data row4 col2\" >1.000000</td>\n",
       "      <td id=\"T_94e33_row4_col3\" class=\"data row4 col3\" >1.000000</td>\n",
       "      <td id=\"T_94e33_row4_col4\" class=\"data row4 col4\" >Type1</td>\n",
       "      <td id=\"T_94e33_row4_col5\" class=\"data row4 col5\" >1.000000</td>\n",
       "      <td id=\"T_94e33_row4_col6\" class=\"data row4 col6\" >161635.388000</td>\n",
       "    </tr>\n",
       "  </tbody>\n",
       "</table>\n"
      ],
      "text/plain": [
       "<pandas.io.formats.style.Styler at 0x2167bc0ed50>"
      ]
     },
     "execution_count": 6,
     "metadata": {},
     "output_type": "execute_result"
    }
   ],
   "source": [
    "data.head().style.hide(axis=\"index\")"
   ]
  },
  {
   "cell_type": "markdown",
   "metadata": {},
   "source": [
    "#### Functions to estimate class area and its standard error"
   ]
  },
  {
   "cell_type": "code",
   "execution_count": 7,
   "metadata": {},
   "outputs": [],
   "source": [
    "def estimate_area(df: pd.DataFrame) -> float:\n",
    "    \"\"\" \n",
    "    Function to estimate target class area from sample refernce values \n",
    "    for unequal probability sampling, with inclusion probabilities proportional to unit area within each stratum.\n",
    "    Unbiased estimator for sampling both with and without replacement.\n",
    "    ~~~\n",
    "    Input dataframe with number of lines equal the number of sample pixels/polygons,\n",
    "    and the following columns:\n",
    "    \"Stratum\" (strata IDs 1 - nstrata; for simple random or systematic nstrata == 1 and thus only stratum ID = 1 should be used)\n",
    "    \"ai\" (area of each sample unit, in units that are desired for area reporting)\n",
    "    \"Reference\" (0-1 - proportion of the sample pixel/polygon identified as target class in reference classification;\n",
    "    Reference data column could be defined as values in range from -1 to 1 to compute net change area of a target class,\n",
    "    in this case negative proportions mean net loss, and positive proportions - net gain)\n",
    "    \"Ah\" (area of stratum stratum h, in the same units as ai)\n",
    "    ~~~\n",
    "    Returns estimated target class area in units of ai, \n",
    "    negative area in net change computations means overall net loss of a target class\n",
    "    ~~~\n",
    "    From Tyukavina et al. (2025) \"Practical global sampling methods for estimating area and map accuracy of land cover and change\"\n",
    "    Appendix A.1.2, equations A.26-A.28\n",
    "    \"\"\"\n",
    "    #Create a copy of columns \"Stratum\",\"Ah\", \"ai\" and a new column \"yi\", \n",
    "    #which is a reference area of the target class determined for sample unit i \n",
    "    df1 = pd.concat([df['Stratum'], df['Ah'], df['ai'],\n",
    "                     pd.Series(df['ai'] * df['Reference'],name = 'yi')], axis = 1)\n",
    "   \n",
    "    #Equation A.28\n",
    "    df1['phi'] = df1['ai'] / df1['Ah']\n",
    "\n",
    "    #Equation A.27\n",
    "    df1['yidivphi'] = df1['yi'] / df1['phi']\n",
    "    ByStratum = df1.groupby(by = ['Stratum'])\n",
    "    nh = ByStratum.yi.count()\n",
    "    Yh = 1 / nh * ByStratum.yidivphi.sum()\n",
    "\n",
    "    #Equation 26                  \n",
    "    area = Yh.sum()\n",
    "\n",
    "    return area\n"
   ]
  },
  {
   "cell_type": "code",
   "execution_count": 8,
   "metadata": {},
   "outputs": [],
   "source": [
    "def estimate_area_SE(df: pd.DataFrame) -> float:\n",
    "    \"\"\" \n",
    "    Function to estimate standard error (SE) of the target class area from sample refernce values \n",
    "    for unequal probability sampling, with inclusion probabilities proportional to unit area within each stratum.\n",
    "    Presented variance estimator is unbiased for sampling with replacement, and an approximation for sampling without replacement.\n",
    "    ~~~\n",
    "    Input dataframe with number of lines equal the number of sample pixels/polygons,\n",
    "    and the following columns:\n",
    "    \"Stratum\" (strata IDs 1 - nstrata; for simple random or systematic nstrata == 1 and thus only stratum ID = 1 should be used)\n",
    "    \"ai\" (area of each sample unit, in units that are desired for area reporting)\n",
    "    \"Reference\" (0-1 - proportion of the sample pixel/polygon identified as target class in reference classification;\n",
    "    Reference data column could be defined as values in range from -1 to 1 to compute net change area of a target class,\n",
    "    in this case negative proportions mean net loss, and positive proportions - net gain)\n",
    "    \"Ah\" (area of stratum stratum h, in the same units as ai)\n",
    "    ~~~\n",
    "    Returns estimated SE of the target class area in in units of ai,\n",
    "    SE is always a positive number, even if the estimated target class area is negative\n",
    "    ~~~\n",
    "    From Tyukavina et al. (2025) \"Practical global sampling methods for estimating area and map accuracy of land cover and change\"\n",
    "    Appendix A.1.2, equations A.27-A.30\n",
    "    \"\"\"\n",
    "    #Create a copy of columns \"Stratum\",\"Ah\", \"ai\" and a new column \"yi\", \n",
    "    #which is a reference area of the target class determined for sample unit i \n",
    "    df1 = pd.concat([df['Stratum'], df['Ah'], df['ai'],\n",
    "                     pd.Series(df['ai'] * df['Reference'],name = 'yi')], axis = 1)\n",
    "   \n",
    "    #Equation A.28\n",
    "    df1['phi'] = df1['ai'] / df1['Ah']\n",
    "\n",
    "    #Equation A.27\n",
    "    df1['yidivphi'] = df1['yi'] / df1['phi']\n",
    "    ByStratum = df1.groupby(by = ['Stratum'])\n",
    "    nh = ByStratum.yi.count()\n",
    "    Yh = 1 / nh * ByStratum.yidivphi.sum()\n",
    "\n",
    "    #Data preparation for Equation A.30\n",
    "    Yhdf = Yh.to_frame(name='Yh').reset_index()\n",
    "    df1 = df1.merge(Yhdf)\n",
    "\n",
    "    #Equation A.30\n",
    "    df1['ForVar'] = (df1['yidivphi'] - df1['Yh'])**2\n",
    "    ByStratum = df1.groupby(by = ['Stratum'])\n",
    "    Varh = ByStratum.ForVar.sum() / ( nh * (nh - 1))\n",
    "\n",
    "    #Equation A.29\n",
    "    Var = Varh.sum()\n",
    "    SE = np.sqrt(Var)\n",
    "    \n",
    "    return SE"
   ]
  },
  {
   "cell_type": "code",
   "execution_count": 9,
   "metadata": {},
   "outputs": [
    {
     "data": {
      "text/plain": [
       "1223903.8326854412"
      ]
     },
     "execution_count": 9,
     "metadata": {},
     "output_type": "execute_result"
    }
   ],
   "source": [
    "#Estimate target class area\n",
    "estimate_area(data)"
   ]
  },
  {
   "cell_type": "code",
   "execution_count": 10,
   "metadata": {},
   "outputs": [
    {
     "data": {
      "text/plain": [
       "31611.122385173083"
      ]
     },
     "execution_count": 10,
     "metadata": {},
     "output_type": "execute_result"
    }
   ],
   "source": [
    "#Estimate standard error of the target class area\n",
    "estimate_area_SE(data)"
   ]
  },
  {
   "cell_type": "code",
   "execution_count": 11,
   "metadata": {},
   "outputs": [
    {
     "data": {
      "text/html": [
       "<style type=\"text/css\">\n",
       "</style>\n",
       "<table id=\"T_a9858\">\n",
       "  <thead>\n",
       "    <tr>\n",
       "      <th id=\"T_a9858_level0_col0\" class=\"col_heading level0 col0\" >Estimate</th>\n",
       "      <th id=\"T_a9858_level0_col1\" class=\"col_heading level0 col1\" >area, km²</th>\n",
       "      <th id=\"T_a9858_level0_col2\" class=\"col_heading level0 col2\" >area SE, km²</th>\n",
       "    </tr>\n",
       "  </thead>\n",
       "  <tbody>\n",
       "    <tr>\n",
       "      <td id=\"T_a9858_row0_col0\" class=\"data row0 col0\" >Type3</td>\n",
       "      <td id=\"T_a9858_row0_col1\" class=\"data row0 col1\" >383052.9482</td>\n",
       "      <td id=\"T_a9858_row0_col2\" class=\"data row0 col2\" >32929.1133</td>\n",
       "    </tr>\n",
       "    <tr>\n",
       "      <td id=\"T_a9858_row1_col0\" class=\"data row1 col0\" >Type2</td>\n",
       "      <td id=\"T_a9858_row1_col1\" class=\"data row1 col1\" >608160.8876</td>\n",
       "      <td id=\"T_a9858_row1_col2\" class=\"data row1 col2\" >38476.2797</td>\n",
       "    </tr>\n",
       "    <tr>\n",
       "      <td id=\"T_a9858_row2_col0\" class=\"data row2 col0\" >Type0</td>\n",
       "      <td id=\"T_a9858_row2_col1\" class=\"data row2 col1\" >0.0000</td>\n",
       "      <td id=\"T_a9858_row2_col2\" class=\"data row2 col2\" >0.0000</td>\n",
       "    </tr>\n",
       "    <tr>\n",
       "      <td id=\"T_a9858_row3_col0\" class=\"data row3 col0\" >Type1</td>\n",
       "      <td id=\"T_a9858_row3_col1\" class=\"data row3 col1\" >232689.9969</td>\n",
       "      <td id=\"T_a9858_row3_col2\" class=\"data row3 col2\" >27599.9173</td>\n",
       "    </tr>\n",
       "  </tbody>\n",
       "</table>\n"
      ],
      "text/plain": [
       "<pandas.io.formats.style.Styler at 0x2167db06d50>"
      ]
     },
     "execution_count": 11,
     "metadata": {},
     "output_type": "execute_result"
    }
   ],
   "source": [
    "#Estimate target class are for each unique type from the column RefType\n",
    "\n",
    "functions = [estimate_area, estimate_area_SE]\n",
    "names = ['area, km²','area SE, km²']\n",
    "results = pd.DataFrame()\n",
    "datacopy = pd.DataFrame()\n",
    "\n",
    "for classtype in data['RefType'].unique():\n",
    "    datacopy = data.copy()\n",
    "    #A new reference column, where reference values are set to zero if class type is different from the current class type\n",
    "    datacopy['Reference']=np.where(datacopy['RefType'] == classtype, datacopy['Reference'], 0)\n",
    "    \n",
    "    values = {}\n",
    "    values = {nm:[fn(datacopy)] for fn, nm in zip(functions,names)}\n",
    "    values[\"Estimate\"] = classtype\n",
    "    values_pd = pd.DataFrame(values).set_index(\"Estimate\")\n",
    "    results = pd.concat([values_pd, results])\n",
    "\n",
    "results = results.reset_index()\n",
    "\n",
    "results.style.hide(axis=\"index\").format({name: '{:.4f}' for name in names})\n"
   ]
  },
  {
   "cell_type": "markdown",
   "metadata": {},
   "source": [
    "#### Functions to estimate overall map accuracy and its standard error"
   ]
  },
  {
   "cell_type": "code",
   "execution_count": 12,
   "metadata": {},
   "outputs": [],
   "source": [
    "def estimate_OA_two_classes (df: pd.DataFrame) -> float:\n",
    "    \"\"\" \n",
    "    Function to estimate overall accuracy of the map that has two classes (target class vs. no target class)\n",
    "    for unequal probability sampling, with inclusion probabilities proportional to unit area within each stratum.\n",
    "    Unbiased estimator for sampling both with and without replacement.\n",
    "    ~~~\n",
    "    Input dataframe with number of lines equal the number of sample pixels/polygons,\n",
    "    and the following columns:\n",
    "    \"Stratum\" (strata IDs 1 - nstrata; for non-stratified sampling nstrata == 1 and thus only stratum ID = 1 should be used)\n",
    "    \"ai\" (area of each sample unit, in units that are desired for area reporting, needs to be consistent with Ah)\n",
    "    \"Map\" (0-1 - proportion of the sample pixel/polygon identified as target class in the map)\n",
    "    \"Reference\" (0-1 - proportion of the sample pixel/polygon identified as target class in reference classification)\n",
    "    \"Ah\" (stratum area, in units that are desired for area reporting, needs to be consistent with ai)\n",
    "    ~~~\n",
    "    Returns estimated overall accuracy of the map expressed as percent of the total study area\n",
    "    ~~~\n",
    "    From Tyukavina et al. (2025) \"Practical global sampling methods for estimating area and map accuracy of land cover and change\"\n",
    "    Appendix A.1.2, equations A.25, A.31-A.33\n",
    "    ~~~\n",
    "    This version of the code uses ratio estimator (equation A.31) instead of equation A.26 as recommended in Appendix A.2.2 of the paper.\n",
    "    The approach for estimating Overall Accurqacy described in the paper (estimating the area of agreement using equation A.26 and \n",
    "    then dividing by a known total area of the study region) is correct, but might produce estimates of OA over 100% in rare cases when Overall Accuracy \n",
    "    is close to 100% (i.e., the area of agreement between the map and the reference sample is very close to the total area of the study region). \n",
    "    When using a ratio estimator (equation A.31), both the correctly classified area (numerator of the ratio) and the total area of the study region \n",
    "    (denominator of the ratio) are estimated from the sample, and thus the estimated Overall Accuracy will not exceed 100%.\n",
    "    ~~~\n",
    "    Area of each sample unit (ai) is used as xi in equation A.33\n",
    "    \"\"\"\n",
    "    #Create a copy of columns \"Stratum\",\"Ah\",\"ai\" and a new column \"yi\", \n",
    "    #where the proportion of the sample unit that is correctly classified (as either of map classes) is first computed as: \n",
    "    #min (\"Map\", \"Reference\") + min (1-\"Map\", 1-\"Reference\"), and then mupliplied by the area of pixel ai to derive\n",
    "    #the area of the sample unit that is correctly classified\n",
    "    df1 = pd.concat([df['Stratum'], df['Ah'],df['ai'],\n",
    "                     pd.Series(((np.minimum(df['Map'],df['Reference']) + np.minimum((1 - df['Map']),(1 - df['Reference']))) * df['ai']),\n",
    "                                name = 'yi')], axis = 1)\n",
    "    \n",
    "    #Prepare data for equation A.25\n",
    "    ByStratum = df1.groupby(by = ['Stratum'])\n",
    "    nh = ByStratum.yi.count()\n",
    "    nhdf = nh.to_frame(name='nh').reset_index()\n",
    "    df1 = df1.merge(nhdf)\n",
    "    \n",
    "    #Equation A.25 Compute inclusion probability for each sampled unit\n",
    "    df1['PIi'] = df1['nh'] * df1['ai'] / df1['Ah']\n",
    "    \n",
    "    #Equation A.32\n",
    "    Yest = (df1['yi'] / df1['PIi']).sum()\n",
    "    #Equation A.33\n",
    "    Xest = (df1['ai'] / df1['PIi']).sum()\n",
    "    \n",
    "    #Equation A.31\n",
    "    OA = Yest / Xest * 100\n",
    "\n",
    "    return OA"
   ]
  },
  {
   "cell_type": "code",
   "execution_count": 13,
   "metadata": {},
   "outputs": [
    {
     "data": {
      "text/plain": [
       "92.08916693742646"
      ]
     },
     "execution_count": 13,
     "metadata": {},
     "output_type": "execute_result"
    }
   ],
   "source": [
    "estimate_OA_two_classes(data)"
   ]
  },
  {
   "cell_type": "code",
   "execution_count": 14,
   "metadata": {},
   "outputs": [],
   "source": [
    "def estimate_OA_multiple_classes (df: pd.DataFrame) -> float:\n",
    "    \"\"\" \n",
    "    Function to estimate overall accuracy of the map that has multiple classes\n",
    "    for unequal probability sampling, with inclusion probabilities proportional to unit area within each stratum.\n",
    "    Unbiased estimator for sampling both with and without replacement.\n",
    "    ~~~\n",
    "    Input dataframe with number of lines equal the number of sample pixels/polygons,\n",
    "    and the following columns:\n",
    "    \"Stratum\" (strata IDs 1 - nstrata; for non-stratified sampling nstrata == 1 and thus only stratum ID = 1 should be used)\n",
    "    \"ai\" (area of each sample unit, in units that are desired for area reporting, needs to be consistent with Ah)\n",
    "    \"Correct\" - proportion of sample unit (0-1) that is correctly mapped\n",
    "    \"Ah\" (stratum area, in units that are desired for area reporting, needs to be consistent with ai)\n",
    "    ~~~\n",
    "    Returns estimated overall accuracy of the map expressed as percent of the total study area\n",
    "    ~~~\n",
    "    From Tyukavina et al. (2025) \"Practical global sampling methods for estimating area and map accuracy of land cover and change\"\n",
    "    Appendix A.1.2, equations A.25, A.31-A.33\n",
    "    ~~~\n",
    "    This version of the code uses ratio estimator (equation A.31) instead of equation A.26 as recommended in Appendix A.2.2 of the paper.\n",
    "    The approach for estimating Overall Accurqacy described in the paper (estimating the area of agreement using equation A.26 and \n",
    "    then dividing by a known total area of the study region) is correct, but might produce estimates of OA over 100% in rare cases when Overall Accuracy \n",
    "    is close to 100% (i.e., the area of agreement between the map and the reference sample is very close to the total area of the study region). \n",
    "    When using a ratio estimator (equation A.31), both the correctly classified area (numerator of the ratio) and the total area of the study region \n",
    "    (denominator of the ratio) are estimated from the sample, and thus the estimated Overall Accuracy will not exceed 100%.\n",
    "    ~~~\n",
    "    Area of each sample unit (ai) is used as xi in equation A.33\n",
    "    \"\"\"\n",
    "    #Create a copy of columns \"Stratum\", \"Ah\", \"ai\" and a new column \"yi\", \n",
    "    #which is the area of the sample unit that is correctly classified, computed as \"Correct\"*\"ai\"\n",
    "    df1 = pd.concat([df['Stratum'], df['ai'],df['Ah'], pd.Series(df['Correct'] * df['ai'], name = 'yi')], axis = 1)\n",
    "                     \n",
    "    #Prepare data for equation A.25\n",
    "    ByStratum = df1.groupby(by = ['Stratum'])\n",
    "    nh = ByStratum.yi.count()\n",
    "    nhdf = nh.to_frame(name='nh').reset_index()\n",
    "    df1 = df1.merge(nhdf)\n",
    "    \n",
    "    #Equation A.25 Compute inclusion probability for each sampled unit\n",
    "    df1['PIi'] = df1['nh'] * df1['ai'] / df1['Ah']\n",
    "    \n",
    "    #Equation A.32\n",
    "    Yest = (df1['yi'] / df1['PIi']).sum()\n",
    "    #Equation A.33\n",
    "    Xest = (df1['ai'] / df1['PIi']).sum()\n",
    "    \n",
    "    #Equation A.31\n",
    "    OA = Yest / Xest * 100\n",
    "\n",
    "    return OA"
   ]
  },
  {
   "cell_type": "code",
   "execution_count": 15,
   "metadata": {},
   "outputs": [
    {
     "data": {
      "text/plain": [
       "92.08916693742646"
      ]
     },
     "execution_count": 15,
     "metadata": {},
     "output_type": "execute_result"
    }
   ],
   "source": [
    "estimate_OA_multiple_classes(data)"
   ]
  },
  {
   "cell_type": "code",
   "execution_count": 16,
   "metadata": {},
   "outputs": [],
   "source": [
    "def estimate_SE_OA_two_classes (df: pd.DataFrame) -> float:\n",
    "    \"\"\" \n",
    "    Function to estimate the standard error of overall accuracy of the map that has two classes (target class vs. no target class)\n",
    "    for unequal probability sampling, with inclusion probabilities proportional to unit area within each stratum.\n",
    "    Presented variance estimator is unbiased for sampling with replacement, and an approximation for sampling without replacement.\n",
    "    ~~~\n",
    "    Input dataframe with number of lines equal the number of sample pixels/polygons,\n",
    "    and the following columns:\n",
    "    \"Stratum\" (strata IDs 1 - nstrata; for non-stratified sampling nstrata == 1 and thus only stratum ID = 1 should be used)\n",
    "    \"ai\" (area of each sample unit, in units that are desired for area reporting, needs to be consistent with Ah)\n",
    "    \"Map\" (0-1 - proportion of the sample pixel/polygon identified as target class in the map)\n",
    "    \"Reference\" (0-1 - proportion of the sample pixel/polygon identified as target class in reference classification)\n",
    "    \"Ah\" (stratum area, in units that are desired for area reporting, needs to be consistent with ai)\n",
    "    ~~~\n",
    "    Returns estimated standard error of the overall accuracy of the map expressed as percent of the total study area\n",
    "    ~~~\n",
    "    From Tyukavina et al. (2025) \"Practical global sampling methods for estimating area and map accuracy of land cover and change\"\n",
    "    Appendix A.1.2, equations A.25, A.31-A.33, A.35\n",
    "    ~~~\n",
    "    Area of each sample unit (ai) is used as xi\n",
    "    \"\"\"\n",
    "    #Create a copy of columns \"Stratum\",\"Ah\",\"ai\" and a new column \"yi\", \n",
    "    #where the proportion of the sample unit that is correctly classified (as either of map classes) is first computed as: \n",
    "    #min (\"Map\", \"Reference\") + min (1-\"Map\", 1-\"Reference\"), and then mupliplied by the area of pixel ai to derive\n",
    "    #the area of the sample unit that is correctly classified\n",
    "    df1 = pd.concat([df['Stratum'], df['Ah'],df['ai'],\n",
    "                     pd.Series(((np.minimum(df['Map'],df['Reference']) + np.minimum((1 - df['Map']),(1 - df['Reference']))) * df['ai']),\n",
    "                                name = 'yi')], axis = 1)\n",
    "    \n",
    "    #Prepare data for equation A.25\n",
    "    ByStratum = df1.groupby(by = ['Stratum'])\n",
    "    nh = ByStratum.yi.count()\n",
    "    nhdf = nh.to_frame(name='nh').reset_index()\n",
    "    df1 = df1.merge(nhdf)\n",
    "    \n",
    "    #Equation A.25 Compute inclusion probability for each sampled unit\n",
    "    df1['PIi'] = df1['nh'] * df1['ai'] / df1['Ah']\n",
    "    \n",
    "    #Equation A.32\n",
    "    Yest = (df1['yi'] / df1['PIi']).sum()\n",
    "    #Equation A.33\n",
    "    Xest = (df1['ai'] / df1['PIi']).sum()\n",
    "    \n",
    "    #Equation A.31\n",
    "    R = Yest / Xest \n",
    "\n",
    "    #Equation A.35\n",
    "    df1['R'] = R\n",
    "    Var = ((1 - df1['PIi']) * (df1['yi'] - df1['R'] *  df1['ai'])**2 / df1['PIi']**2).sum() / Xest**2\n",
    "    \n",
    "    SE = np.sqrt(Var)*100\n",
    "\n",
    "    return SE"
   ]
  },
  {
   "cell_type": "code",
   "execution_count": 17,
   "metadata": {},
   "outputs": [
    {
     "data": {
      "text/plain": [
       "0.74436703027652"
      ]
     },
     "execution_count": 17,
     "metadata": {},
     "output_type": "execute_result"
    }
   ],
   "source": [
    "estimate_SE_OA_two_classes(data)"
   ]
  },
  {
   "cell_type": "code",
   "execution_count": 18,
   "metadata": {},
   "outputs": [],
   "source": [
    "def estimate_SE_OA_multiple_classes (df: pd.DataFrame) -> float:\n",
    "    \"\"\" \n",
    "    Function to estimate the standard error of overall accuracy of the map that has multiple classes\n",
    "    for unequal probability sampling, with inclusion probabilities proportional to unit area within each stratum.\n",
    "    Presented variance estimator is unbiased for sampling with replacement, and an approximation for sampling without replacement.\n",
    "    ~~~\n",
    "    Input dataframe with number of lines equal the number of sample pixels/polygons,\n",
    "    and the following columns:\n",
    "    \"Stratum\" (strata IDs 1 - nstrata; for non-stratified sampling nstrata == 1 and thus only stratum ID = 1 should be used)\n",
    "    \"ai\" (area of each sample unit, in units that are desired for area reporting, needs to be consistent with Ah)\n",
    "    \"Correct\" - proportion of sample unit (0-1) that is correctly mapped\n",
    "    \"Ah\" (stratum area, in units that are desired for area reporting, needs to be consistent with ai)\n",
    "    ~~~\n",
    "    Returns estimated standard error of the overall accuracy of the map expressed as percent of the total study area\n",
    "    ~~~\n",
    "    From Tyukavina et al. (2025) \"Practical global sampling methods for estimating area and map accuracy of land cover and change\"\n",
    "    Appendix A.1.2, equations A.25, A.31-A.33, A.35\n",
    "    ~~~\n",
    "    Area of each sample unit (ai) is used as xi\n",
    "    \"\"\"\n",
    "    #Create a copy of columns \"Stratum\", \"Ah\", \"ai\" and a new column \"yi\", \n",
    "    #which is the area of the sample unit that is correctly classified, computed as \"Correct\"*\"ai\"\n",
    "    df1 = pd.concat([df['Stratum'], df['ai'],df['Ah'], pd.Series(df['Correct'] * df['ai'], name = 'yi')], axis = 1)\n",
    "                  \n",
    "    #Prepare data for equation A.25\n",
    "    ByStratum = df1.groupby(by = ['Stratum'])\n",
    "    nh = ByStratum.yi.count()\n",
    "    nhdf = nh.to_frame(name='nh').reset_index()\n",
    "    df1 = df1.merge(nhdf)\n",
    "    \n",
    "    #Equation A.25 Compute inclusion probability for each sampled unit\n",
    "    df1['PIi'] = df1['nh'] * df1['ai'] / df1['Ah']\n",
    "    \n",
    "    #Equation A.32\n",
    "    Yest = (df1['yi'] / df1['PIi']).sum()\n",
    "    #Equation A.33\n",
    "    Xest = (df1['ai'] / df1['PIi']).sum()\n",
    "    \n",
    "    #Equation A.31\n",
    "    R = Yest / Xest \n",
    "\n",
    "    #Equation A.35\n",
    "    df1['R'] = R\n",
    "    Var = ((1 - df1['PIi']) * (df1['yi'] - df1['R'] *  df1['ai'])**2 / df1['PIi']**2).sum() / Xest**2\n",
    "    \n",
    "    SE = np.sqrt(Var)*100\n",
    "\n",
    "    return SE"
   ]
  },
  {
   "cell_type": "code",
   "execution_count": 19,
   "metadata": {},
   "outputs": [
    {
     "data": {
      "text/plain": [
       "0.74436703027652"
      ]
     },
     "execution_count": 19,
     "metadata": {},
     "output_type": "execute_result"
    }
   ],
   "source": [
    "estimate_SE_OA_multiple_classes(data)"
   ]
  },
  {
   "cell_type": "markdown",
   "metadata": {},
   "source": [
    "#### Functions to estimate user's and producer's accuracy of target class and their standard errors"
   ]
  },
  {
   "cell_type": "code",
   "execution_count": 20,
   "metadata": {},
   "outputs": [],
   "source": [
    "def estimate_UA (df: pd.DataFrame) -> float:\n",
    "    \"\"\" \n",
    "    Function to estimate user's accuracy of target class\n",
    "    for unequal probability sampling, with inclusion probabilities proportional to unit area within each stratum.\n",
    "    Unbiased estimator for sampling both with and without replacement.\n",
    "    ~~~\n",
    "    Input dataframe with number of lines equal the number of sample pixels/polygons,\n",
    "    and the following columns:\n",
    "    \"Stratum\" (strata IDs 1 - nstrata; for non-stratified sampling nstrata == 1 and thus only stratum ID = 1 should be used)\n",
    "    \"ai\" (area of each sample unit, in units that are desired for area reporting, needs to be consistent with Ah)\n",
    "    \"Map\" (0-1 - proportion of the sample pixel/polygon identified as target class in the map)\n",
    "    \"Reference\" (0-1 - proportion of the sample pixel/polygon identified as target class in reference classification)\n",
    "    \"Ah\" (stratum area, in units that are desired for area reporting, needs to be consistent with ai)\n",
    "    ~~~\n",
    "    Returns estimated user's accuracy of target class expressed as percentage\n",
    "    ~~~\n",
    "    From Tyukavina et al. (2025) \"Practical global sampling methods for estimating area and map accuracy of land cover and change\"\n",
    "    Appendix A.1.2, equations A.25, A.31-A.33\n",
    "    \"\"\"\n",
    "    #Create a copy of columns \"Ah\",\"ai\" and new columns\n",
    "    #\"yi\" - area of sample unit that is correctly classfied as target class, computed as min (\"Map\", \"Reference\")*\"ai\"\n",
    "    #\"xi\" - area of a sample unit that is mapped as target class, computed as \"Map\"*\"ai\"\n",
    "    df1 = pd.concat([df['Stratum'],df['Ah'],df['ai'],\n",
    "                     pd.Series((np.minimum(df['Map'],df['Reference']) * df['ai']), name = 'yi'),\n",
    "                     pd.Series(df['Map'] * df['ai'], name = 'xi')],axis = 1)\n",
    "\n",
    "    #Prepare data for equation A.25\n",
    "    ByStratum = df1.groupby(by = ['Stratum'])\n",
    "    nh = ByStratum.yi.count()\n",
    "    nhdf = nh.to_frame(name='nh').reset_index()\n",
    "    df1 = df1.merge(nhdf)\n",
    "    \n",
    "    #Equation A.25 Compute inclusion probability for each sampled unit\n",
    "    df1['PIi'] = df1['nh'] * df1['ai'] / df1['Ah']\n",
    "    \n",
    "    #Equation A.32\n",
    "    Yest = (df1['yi'] / df1['PIi']).sum()\n",
    "    #Equation A.33\n",
    "    Xest = (df1['xi'] / df1['PIi']).sum()\n",
    "    \n",
    "    #Equation A.31\n",
    "    UA = Yest / Xest * 100\n",
    "\n",
    "    return UA"
   ]
  },
  {
   "cell_type": "code",
   "execution_count": 21,
   "metadata": {},
   "outputs": [
    {
     "data": {
      "text/plain": [
       "80.6910655161679"
      ]
     },
     "execution_count": 21,
     "metadata": {},
     "output_type": "execute_result"
    }
   ],
   "source": [
    "estimate_UA(data)"
   ]
  },
  {
   "cell_type": "code",
   "execution_count": 22,
   "metadata": {},
   "outputs": [],
   "source": [
    "def estimate_PA (df: pd.DataFrame) -> float:\n",
    "    \"\"\" \n",
    "    Function to estimate producer's accuracy of target class\n",
    "    for unequal probability sampling, with inclusion probabilities proportional to unit area within each stratum.\n",
    "    Unbiased estimator for sampling both with and without replacement.\n",
    "    ~~~ \n",
    "    Input dataframe with number of lines equal the number of sample pixels/polygons,\n",
    "    and the following columns:\n",
    "    \"Stratum\" (strata IDs 1 - nstrata; for non-stratified sampling nstrata == 1 and thus only stratum ID = 1 should be used)\n",
    "    \"ai\" (area of each sample unit, in units that are desired for area reporting, needs to be consistent with Ah)\n",
    "    \"Map\" (0-1 - proportion of the sample pixel/polygon identified as target class in the map)\n",
    "    \"Reference\" (0-1 - proportion of the sample pixel/polygon identified as target class in reference classification)\n",
    "    \"Ah\" (stratum area, in units that are desired for area reporting, needs to be consistent with ai)\n",
    "    ~~~\n",
    "    Returns estimated producer's accuracy of target class expressed as percentage\n",
    "    ~~~\n",
    "    From Tyukavina et al. (2025) \"Practical global sampling methods for estimating area and map accuracy of land cover and change\"\n",
    "    Appendix A.1.2, equations A.25, A.31-A.33\n",
    "    \"\"\"\n",
    "    #Create a copy of columns \"Ah\",\"ai\" and new columns\n",
    "    #\"yi\" - area of sample unit that is correctly classfied as target class, computed as min (\"Map\", \"Reference\")*\"ai\"\n",
    "    #\"xi\" - area of a sample unit that is identified as target class in reference classification, computed as \"Reference\"*\"ai\"\n",
    "    df1 = pd.concat([df['Stratum'],df['Ah'],df['ai'],\n",
    "                     pd.Series((np.minimum(df['Map'],df['Reference']) * df['ai']), name = 'yi'),\n",
    "                     pd.Series(df['Reference'] * df['ai'], name = 'xi')],axis = 1)\n",
    "\n",
    "    #Prepare data for equation A.25\n",
    "    ByStratum = df1.groupby(by = ['Stratum'])\n",
    "    nh = ByStratum.yi.count()\n",
    "    nhdf = nh.to_frame(name='nh').reset_index()\n",
    "    df1 = df1.merge(nhdf)\n",
    "    \n",
    "    #Equation A.25 Compute inclusion probability for each sampled unit\n",
    "    df1['PIi'] = df1['nh'] * df1['ai'] / df1['Ah']\n",
    "    \n",
    "    #Equation A.32\n",
    "    Yest = (df1['yi'] / df1['PIi']).sum()\n",
    "    #Equation A.33\n",
    "    Xest = (df1['xi'] / df1['PIi']).sum()\n",
    "    \n",
    "    #Equation A.31\n",
    "    PA = Yest / Xest * 100\n",
    "\n",
    "    return PA"
   ]
  },
  {
   "cell_type": "code",
   "execution_count": 23,
   "metadata": {},
   "outputs": [
    {
     "data": {
      "text/plain": [
       "93.62678633355188"
      ]
     },
     "execution_count": 23,
     "metadata": {},
     "output_type": "execute_result"
    }
   ],
   "source": [
    "estimate_PA(data)"
   ]
  },
  {
   "cell_type": "code",
   "execution_count": 24,
   "metadata": {},
   "outputs": [],
   "source": [
    "def estimate_UA_SE(df: pd.DataFrame) -> float:\n",
    "    \"\"\" \n",
    "    Function to estimate the standard error (SE) of user's accuracy of target class\n",
    "    for unequal probability sampling, with inclusion probabilities proportional to unit area within each stratum.\n",
    "    Presented variance estimator is unbiased for sampling with replacement, and an approximation for sampling without replacement.\n",
    "    ~~~\n",
    "    Input dataframe with number of lines equal the number of sample pixels/polygons,\n",
    "    and the following columns:\n",
    "    \"Stratum\" (strata IDs 1 - nstrata; for non-stratified sampling nstrata == 1 and thus only stratum ID = 1 should be used)\n",
    "    \"ai\" (area of each sample unit, in units that are desired for area reporting, needs to be consistent with Ah)\n",
    "    \"Map\" (0-1 - proportion of the sample pixel/polygon identified as target class in the map)\n",
    "    \"Reference\" (0-1 - proportion of the sample pixel/polygon identified as target class in reference classification)\n",
    "    \"Ah\" (stratum area, in units that are desired for area reporting, needs to be consistent with ai)\n",
    "    ~~~\n",
    "    Returns estimated SE of user's accuracy of target class expressed as percentage\n",
    "    ~~~\n",
    "    From Tyukavina et al. (2025) \"Practical global sampling methods for estimating area and map accuracy of land cover and change\"\n",
    "    Appendix A.1.2, equations A.25, A.31-A.33, A.35\n",
    "    \"\"\"\n",
    "    #Create a copy of columns \"Ah\",\"ai\" and new columns\n",
    "    #\"yi\" - area of sample unit that is correctly classfied as target class, computed as min (\"Map\", \"Reference\")*\"ai\"\n",
    "    #\"xi\" - area of a sample unit that is mapped as target class, computed as \"Map\"*\"ai\"\n",
    "    df1 = pd.concat([df['Stratum'],df['Ah'],df['ai'],\n",
    "                     pd.Series((np.minimum(df['Map'],df['Reference']) * df['ai']), name = 'yi'),\n",
    "                     pd.Series(df['Map'] * df['ai'], name = 'xi')],axis = 1)\n",
    "\n",
    "    #Prepare data for equation A.25\n",
    "    ByStratum = df1.groupby(by = ['Stratum'])\n",
    "    nh = ByStratum.yi.count()\n",
    "    nhdf = nh.to_frame(name='nh').reset_index()\n",
    "    df1 = df1.merge(nhdf)\n",
    "    \n",
    "    #Equation A.25 Compute inclusion probability for each sampled unit\n",
    "    df1['PIi'] = df1['nh'] * df1['ai'] / df1['Ah']\n",
    "    \n",
    "    #Equation A.32\n",
    "    Yest = (df1['yi'] / df1['PIi']).sum()\n",
    "    #Equation A.33\n",
    "    Xest = (df1['xi'] / df1['PIi']).sum()\n",
    "    \n",
    "    #Equation A.31\n",
    "    R = Yest / Xest \n",
    "\n",
    "    #Equation A.35\n",
    "    df1['R'] = R\n",
    "    Var = ((1 - df1['PIi']) * (df1['yi'] - df1['R'] *  df1['xi'])**2 / df1['PIi']**2).sum() / Xest**2\n",
    "    \n",
    "    SE = np.sqrt(Var)*100\n",
    "\n",
    "    return SE"
   ]
  },
  {
   "cell_type": "code",
   "execution_count": 25,
   "metadata": {},
   "outputs": [
    {
     "data": {
      "text/plain": [
       "1.8753281165637898"
      ]
     },
     "execution_count": 25,
     "metadata": {},
     "output_type": "execute_result"
    }
   ],
   "source": [
    "estimate_UA_SE(data)"
   ]
  },
  {
   "cell_type": "code",
   "execution_count": 26,
   "metadata": {},
   "outputs": [],
   "source": [
    "def estimate_PA_SE(df: pd.DataFrame) -> float:\n",
    "    \"\"\" \n",
    "    Function to estimate the standard error (SE) of producer's accuracy of target class\n",
    "    for unequal probability sampling, with inclusion probabilities proportional to unit area within each stratum.\n",
    "    Presented variance estimator is unbiased for sampling with replacement, and an approximation for sampling without replacement.\n",
    "    ~~~\n",
    "    Input dataframe with number of lines equal the number of sample pixels/polygons,\n",
    "    and the following columns:\n",
    "    \"Stratum\" (strata IDs 1 - nstrata; for non-stratified sampling nstrata == 1 and thus only stratum ID = 1 should be used)\n",
    "    \"ai\" (area of each sample unit, in units that are desired for area reporting, needs to be consistent with Ah)\n",
    "    \"Map\" (0-1 - proportion of the sample pixel/polygon identified as target class in the map)\n",
    "    \"Reference\" (0-1 - proportion of the sample pixel/polygon identified as target class in reference classification)\n",
    "    \"Ah\" (stratum area, in units that are desired for area reporting, needs to be consistent with ai)\n",
    "    ~~~\n",
    "    Returns estimated SE of producer's accuracy of target class expressed as percentage\n",
    "    ~~~\n",
    "    From Tyukavina et al. (2025) \"Practical global sampling methods for estimating area and map accuracy of land cover and change\"\n",
    "    Appendix A.1.2, equations A.25, A.31-A.33, A.35\n",
    "    \"\"\"\n",
    "    #Create a copy of columns \"Ah\",\"ai\" and new columns\n",
    "    #\"yi\" - area of sample unit that is correctly classfied as target class, computed as min (\"Map\", \"Reference\")*\"ai\"\n",
    "    #\"xi\" - area of a sample unit that is identified as target class in reference classification, computed as \"Reference\"*\"ai\"\n",
    "    df1 = pd.concat([df['Stratum'],df['Ah'],df['ai'],\n",
    "                     pd.Series((np.minimum(df['Map'],df['Reference']) * df['ai']), name = 'yi'),\n",
    "                     pd.Series(df['Reference'] * df['ai'], name = 'xi')],axis = 1)\n",
    "    \n",
    "    #Prepare data for equation A.25\n",
    "    ByStratum = df1.groupby(by = ['Stratum'])\n",
    "    nh = ByStratum.yi.count()\n",
    "    nhdf = nh.to_frame(name='nh').reset_index()\n",
    "    df1 = df1.merge(nhdf)\n",
    "    \n",
    "    #Equation A.25 Compute inclusion probability for each sampled unit\n",
    "    df1['PIi'] = df1['nh'] * df1['ai'] / df1['Ah']\n",
    "    \n",
    "    #Equation A.32\n",
    "    Yest = (df1['yi'] / df1['PIi']).sum()\n",
    "    #Equation A.33\n",
    "    Xest = (df1['xi'] / df1['PIi']).sum()\n",
    "    \n",
    "    #Equation A.31\n",
    "    R = Yest / Xest \n",
    "\n",
    "    #Equation A.35\n",
    "    df1['R'] = R\n",
    "    Var = ((1 - df1['PIi']) * (df1['yi'] - df1['R'] *  df1['xi'])**2 / df1['PIi']**2).sum() / Xest**2\n",
    "    \n",
    "    SE = np.sqrt(Var)*100\n",
    "\n",
    "    return SE"
   ]
  },
  {
   "cell_type": "code",
   "execution_count": 27,
   "metadata": {},
   "outputs": [
    {
     "data": {
      "text/plain": [
       "1.4329110878357287"
      ]
     },
     "execution_count": 27,
     "metadata": {},
     "output_type": "execute_result"
    }
   ],
   "source": [
    "estimate_PA_SE(data)"
   ]
  },
  {
   "cell_type": "markdown",
   "metadata": {},
   "source": [
    "#### Functions to estimate % of class1 from class2"
   ]
  },
  {
   "cell_type": "code",
   "execution_count": 28,
   "metadata": {},
   "outputs": [],
   "source": [
    "def estimate_class_percent (df: pd.DataFrame) -> float:\n",
    "    \"\"\" \n",
    "    Function to estimate percent of class1 from class2, both estimated from the sample\n",
    "    for unequal probability sampling, with inclusion probabilities proportional to unit area within each stratum.\n",
    "    Unbiased estimator for sampling both with and without replacement.\n",
    "    ~~~ \n",
    "    Input dataframe with number of lines equal the number of sample pixels/polygons,\n",
    "    and the following columns:\n",
    "    \"Stratum\" (strata IDs 1 - nstrata; for non-stratified sampling nstrata == 1 and thus only stratum ID = 1 should be used)\n",
    "    \"ai\" (area of each sample unit, in units that are desired for area reporting)\n",
    "    \"Class1\" (0-1 - proportion of the sample pixel/polygon identified as class 1 (percentage numerator))\n",
    "    \"Class2\" (0-1 - proportion of the sample pixel/polygon identified as class 2 (percentage denominator))\n",
    "    \"Ah\" (stratum area, in units that are desired for area reporting, needs to be consistent with ai)\n",
    "    ~~~\n",
    "    Returns estimated percent of class1 from the area of class2\n",
    "    ~~~\n",
    "    From Tyukavina et al. (2025) \"Practical global sampling methods for estimating area and map accuracy of land cover and change\"\n",
    "    Appendix A.1.2, equations A.25, A.31-33\n",
    "    \"\"\"\n",
    "    #Create a copy of columns \"Ah\",\"ai\" and new columns\n",
    "    #\"yi\" - area of sample unit that is identified as class 1 in the reference classification, computed as \"Class1\"*\"ai\"\n",
    "    #\"xi\" - rea of sample unit that is identified as class 2 in the reference classification, computed as \"Class2\"*\"ai\"\n",
    "    df1 = pd.concat([df['Stratum'],df['Ah'],df['ai'],\n",
    "                     pd.Series((df['Class1'] * df['ai']), name = 'yi'),\n",
    "                     pd.Series(df['Class2'] * df['ai'], name = 'xi')],axis = 1)\n",
    "    \n",
    "    #Prepare data for equation A.25\n",
    "    ByStratum = df1.groupby(by = ['Stratum'])\n",
    "    nh = ByStratum.yi.count()\n",
    "    nhdf = nh.to_frame(name='nh').reset_index()\n",
    "    df1 = df1.merge(nhdf)\n",
    "    \n",
    "    #Equation A.25 Compute inclusion probability for each sampled unit\n",
    "    df1['PIi'] = df1['nh'] * df1['ai'] / df1['Ah']\n",
    "    \n",
    "    #Equation A.32\n",
    "    Yest = (df1['yi'] / df1['PIi']).sum()\n",
    "    #Equation A.33\n",
    "    Xest = (df1['xi'] / df1['PIi']).sum()\n",
    "    \n",
    "    #Equation A.31\n",
    "    PERC = Yest / Xest * 100\n",
    "\n",
    "    return PERC"
   ]
  },
  {
   "cell_type": "code",
   "execution_count": 29,
   "metadata": {},
   "outputs": [],
   "source": [
    "def estimate_class_percent_SE (df: pd.DataFrame) -> float:\n",
    "    \"\"\" \n",
    "    Function to estimate the standard error (SE) of percent of class1 from class2, both estimated from the sample\n",
    "    for unequal probability sampling, with inclusion probabilities proportional to unit area within each stratum.\n",
    "    Unbiased estimator for sampling both with and without replacement.\n",
    "    ~~~\n",
    "    Input dataframe with number of lines equal the number of sample pixels/polygons,\n",
    "    and the following columns:\n",
    "    \"Stratum\" (strata IDs 1 - nstrata; for non-stratified sampling nstrata == 1 and thus only stratum ID = 1 should be used)\n",
    "    \"ai\" (area of each sample unit, in units that are desired for area reporting)\n",
    "    \"Class1\" (0-1 - proportion of the sample pixel/polygon identified as class 1 (percentage numerator))\n",
    "    \"Class2\" (0-1 - proportion of the sample pixel/polygon identified as class 2 (percentage denominator))\n",
    "    \"Ah\" (stratum area, in units that are desired for area reporting, needs to be consistent with ai)\n",
    "    ~~~\n",
    "    Returns estimated SE of percent of class1 from class2\n",
    "    ~~~\n",
    "    From Tyukavina et al. (2025) \"Practical global sampling methods for estimating area and map accuracy of land cover and change\"\n",
    "    Appendix A.1.2, equations A.25, A.31-A.33, A.35\n",
    "    \"\"\"\n",
    "    #Create a copy of columns \"Ah\",\"ai\" and new columns\n",
    "    #\"yi\" - area of sample unit that is identified as class 1 in the reference classification, computed as \"Class1\"*\"ai\"\n",
    "    #\"xi\" - rea of sample unit that is identified as class 2 in the reference classification, computed as \"Class2\"*\"ai\"\n",
    "    df1 = pd.concat([df['Stratum'],df['Ah'],df['ai'],\n",
    "                     pd.Series((df['Class1'] * df['ai']), name = 'yi'),\n",
    "                     pd.Series(df['Class2'] * df['ai'], name = 'xi')],axis = 1)\n",
    "    \n",
    "   #Prepare data for equation A.25\n",
    "    ByStratum = df1.groupby(by = ['Stratum'])\n",
    "    nh = ByStratum.yi.count()\n",
    "    nhdf = nh.to_frame(name='nh').reset_index()\n",
    "    df1 = df1.merge(nhdf)\n",
    "    \n",
    "    #Equation A.25 Compute inclusion probability for each sampled unit\n",
    "    df1['PIi'] = df1['nh'] * df1['ai'] / df1['Ah']\n",
    "    \n",
    "    #Equation A.32\n",
    "    Yest = (df1['yi'] / df1['PIi']).sum()\n",
    "    #Equation A.33\n",
    "    Xest = (df1['xi'] / df1['PIi']).sum()\n",
    "    \n",
    "    #Equation A.31\n",
    "    R = Yest / Xest \n",
    "\n",
    "    #Equation A.35\n",
    "    df1['R'] = R\n",
    "    Var = ((1 - df1['PIi']) * (df1['yi'] - df1['R'] *  df1['xi'])**2 / df1['PIi']**2).sum() / Xest**2\n",
    "    \n",
    "    SE = np.sqrt(Var)*100\n",
    "\n",
    "    return SE"
   ]
  },
  {
   "cell_type": "code",
   "execution_count": 30,
   "metadata": {},
   "outputs": [
    {
     "data": {
      "text/html": [
       "<style type=\"text/css\">\n",
       "</style>\n",
       "<table id=\"T_db1b4\">\n",
       "  <thead>\n",
       "    <tr>\n",
       "      <th id=\"T_db1b4_level0_col0\" class=\"col_heading level0 col0\" >Estimate</th>\n",
       "      <th id=\"T_db1b4_level0_col1\" class=\"col_heading level0 col1\" >% from target class</th>\n",
       "      <th id=\"T_db1b4_level0_col2\" class=\"col_heading level0 col2\" >SE</th>\n",
       "    </tr>\n",
       "  </thead>\n",
       "  <tbody>\n",
       "    <tr>\n",
       "      <td id=\"T_db1b4_row0_col0\" class=\"data row0 col0\" >Type3</td>\n",
       "      <td id=\"T_db1b4_row0_col1\" class=\"data row0 col1\" >31.30</td>\n",
       "      <td id=\"T_db1b4_row0_col2\" class=\"data row0 col2\" >2.61</td>\n",
       "    </tr>\n",
       "    <tr>\n",
       "      <td id=\"T_db1b4_row1_col0\" class=\"data row1 col0\" >Type2</td>\n",
       "      <td id=\"T_db1b4_row1_col1\" class=\"data row1 col1\" >49.69</td>\n",
       "      <td id=\"T_db1b4_row1_col2\" class=\"data row1 col2\" >2.80</td>\n",
       "    </tr>\n",
       "    <tr>\n",
       "      <td id=\"T_db1b4_row2_col0\" class=\"data row2 col0\" >Type0</td>\n",
       "      <td id=\"T_db1b4_row2_col1\" class=\"data row2 col1\" >0.00</td>\n",
       "      <td id=\"T_db1b4_row2_col2\" class=\"data row2 col2\" >0.00</td>\n",
       "    </tr>\n",
       "    <tr>\n",
       "      <td id=\"T_db1b4_row3_col0\" class=\"data row3 col0\" >Type1</td>\n",
       "      <td id=\"T_db1b4_row3_col1\" class=\"data row3 col1\" >19.01</td>\n",
       "      <td id=\"T_db1b4_row3_col2\" class=\"data row3 col2\" >2.19</td>\n",
       "    </tr>\n",
       "  </tbody>\n",
       "</table>\n"
      ],
      "text/plain": [
       "<pandas.io.formats.style.Styler at 0x2167d4ee4d0>"
      ]
     },
     "execution_count": 30,
     "metadata": {},
     "output_type": "execute_result"
    }
   ],
   "source": [
    "#Example of use: estimate % of Types 0-3 from the overall area of the target class (Reference>0).\n",
    "\n",
    "functions = [estimate_class_percent, estimate_class_percent_SE]\n",
    "names = ['% from target class','SE']\n",
    "results = pd.DataFrame()\n",
    "datacopy = pd.DataFrame()\n",
    "\n",
    "for classtype in data['RefType'].unique():\n",
    "    datacopy = data.copy()\n",
    "    #A new Class1 column, where reference values are set to zero if class type is different from the current class type\n",
    "    datacopy['Class1'] = np.where(datacopy['RefType'] == classtype, datacopy['Reference'], 0)\n",
    "    \n",
    "    #Set Class2 equal to Reference (total area of target class)\n",
    "    datacopy['Class2'] = datacopy['Reference']\n",
    "    \n",
    "    \n",
    "    values = {}\n",
    "    values = {nm:[fn(datacopy)] for fn, nm in zip(functions,names)}\n",
    "    values[\"Estimate\"] = classtype\n",
    "    values_pd = pd.DataFrame(values).set_index(\"Estimate\")\n",
    "    results = pd.concat([values_pd, results])\n",
    "\n",
    "results = results.reset_index()\n",
    "\n",
    "results.style.hide(axis=\"index\").format({name: '{:.2f}' for name in names})\n"
   ]
  }
 ],
 "metadata": {
  "kernelspec": {
   "display_name": "Python 3 (ipykernel)",
   "language": "python",
   "name": "python3"
  },
  "language_info": {
   "codemirror_mode": {
    "name": "ipython",
    "version": 3
   },
   "file_extension": ".py",
   "mimetype": "text/x-python",
   "name": "python",
   "nbconvert_exporter": "python",
   "pygments_lexer": "ipython3",
   "version": "3.11.5"
  }
 },
 "nbformat": 4,
 "nbformat_minor": 4
}
