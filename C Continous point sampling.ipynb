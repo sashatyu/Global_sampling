{
 "cells": [
  {
   "cell_type": "code",
   "execution_count": 1,
   "metadata": {},
   "outputs": [],
   "source": [
    "import pandas as pd\n",
    "import numpy as np"
   ]
  },
  {
   "cell_type": "markdown",
   "metadata": {},
   "source": [
    "### Area and accuracy estimation for equal probability sampling, from Tyukavina et al. (2025) \"Practical global sampling methods for estimating area and map accuracy of land cover and change\" [https://doi.org/10.1016/j.rse.2025.114714](https://doi.org/10.1016/j.rse.2025.114714), Appendix C"
   ]
  },
  {
   "cell_type": "markdown",
   "metadata": {},
   "source": [
    "#### Example of input data"
   ]
  },
  {
   "cell_type": "code",
   "execution_count": 2,
   "metadata": {},
   "outputs": [],
   "source": [
    "#Read strata info table with columns:\n",
    "#\"Stratum\": stratum ID, 1 - nstrata; for non-stratified sampling nstrata == 1 and thus only stratum ID = 1 should be used\n",
    "#\"Area\": stratum area in km2 or any other area units;\n",
    "strata = pd.read_csv('C.Strata_info.txt', sep = '\\t')"
   ]
  },
  {
   "cell_type": "code",
   "execution_count": 3,
   "metadata": {},
   "outputs": [
    {
     "data": {
      "text/html": [
       "<style type=\"text/css\">\n",
       "</style>\n",
       "<table id=\"T_fb1c7\">\n",
       "  <thead>\n",
       "    <tr>\n",
       "      <th id=\"T_fb1c7_level0_col0\" class=\"col_heading level0 col0\" >Stratum</th>\n",
       "      <th id=\"T_fb1c7_level0_col1\" class=\"col_heading level0 col1\" >Area</th>\n",
       "    </tr>\n",
       "  </thead>\n",
       "  <tbody>\n",
       "    <tr>\n",
       "      <td id=\"T_fb1c7_row0_col0\" class=\"data row0 col0\" >1</td>\n",
       "      <td id=\"T_fb1c7_row0_col1\" class=\"data row0 col1\" >595255.012800</td>\n",
       "    </tr>\n",
       "    <tr>\n",
       "      <td id=\"T_fb1c7_row1_col0\" class=\"data row1 col0\" >2</td>\n",
       "      <td id=\"T_fb1c7_row1_col1\" class=\"data row1 col1\" >332992.902600</td>\n",
       "    </tr>\n",
       "    <tr>\n",
       "      <td id=\"T_fb1c7_row2_col0\" class=\"data row2 col0\" >3</td>\n",
       "      <td id=\"T_fb1c7_row2_col1\" class=\"data row2 col1\" >946369.335100</td>\n",
       "    </tr>\n",
       "    <tr>\n",
       "      <td id=\"T_fb1c7_row3_col0\" class=\"data row3 col0\" >4</td>\n",
       "      <td id=\"T_fb1c7_row3_col1\" class=\"data row3 col1\" >486272.535600</td>\n",
       "    </tr>\n",
       "    <tr>\n",
       "      <td id=\"T_fb1c7_row4_col0\" class=\"data row4 col0\" >5</td>\n",
       "      <td id=\"T_fb1c7_row4_col1\" class=\"data row4 col1\" >669855.474600</td>\n",
       "    </tr>\n",
       "  </tbody>\n",
       "</table>\n"
      ],
      "text/plain": [
       "<pandas.io.formats.style.Styler at 0x1e029d59c90>"
      ]
     },
     "execution_count": 3,
     "metadata": {},
     "output_type": "execute_result"
    }
   ],
   "source": [
    "strata.head().style.hide(axis=\"index\")"
   ]
  },
  {
   "cell_type": "code",
   "execution_count": 4,
   "metadata": {},
   "outputs": [
    {
     "data": {
      "text/html": [
       "<style type=\"text/css\">\n",
       "</style>\n",
       "<table id=\"T_754b0\">\n",
       "  <thead>\n",
       "    <tr>\n",
       "      <th id=\"T_754b0_level0_col0\" class=\"col_heading level0 col0\" >Stratum</th>\n",
       "      <th id=\"T_754b0_level0_col1\" class=\"col_heading level0 col1\" >Reference</th>\n",
       "      <th id=\"T_754b0_level0_col2\" class=\"col_heading level0 col2\" >RefType</th>\n",
       "    </tr>\n",
       "  </thead>\n",
       "  <tbody>\n",
       "    <tr>\n",
       "      <td id=\"T_754b0_row0_col0\" class=\"data row0 col0\" >10</td>\n",
       "      <td id=\"T_754b0_row0_col1\" class=\"data row0 col1\" >1</td>\n",
       "      <td id=\"T_754b0_row0_col2\" class=\"data row0 col2\" >Type1</td>\n",
       "    </tr>\n",
       "    <tr>\n",
       "      <td id=\"T_754b0_row1_col0\" class=\"data row1 col0\" >2</td>\n",
       "      <td id=\"T_754b0_row1_col1\" class=\"data row1 col1\" >0</td>\n",
       "      <td id=\"T_754b0_row1_col2\" class=\"data row1 col2\" >Type1</td>\n",
       "    </tr>\n",
       "    <tr>\n",
       "      <td id=\"T_754b0_row2_col0\" class=\"data row2 col0\" >1</td>\n",
       "      <td id=\"T_754b0_row2_col1\" class=\"data row2 col1\" >0</td>\n",
       "      <td id=\"T_754b0_row2_col2\" class=\"data row2 col2\" >Type0</td>\n",
       "    </tr>\n",
       "    <tr>\n",
       "      <td id=\"T_754b0_row3_col0\" class=\"data row3 col0\" >3</td>\n",
       "      <td id=\"T_754b0_row3_col1\" class=\"data row3 col1\" >0</td>\n",
       "      <td id=\"T_754b0_row3_col2\" class=\"data row3 col2\" >Type0</td>\n",
       "    </tr>\n",
       "    <tr>\n",
       "      <td id=\"T_754b0_row4_col0\" class=\"data row4 col0\" >8</td>\n",
       "      <td id=\"T_754b0_row4_col1\" class=\"data row4 col1\" >1</td>\n",
       "      <td id=\"T_754b0_row4_col2\" class=\"data row4 col2\" >Type1</td>\n",
       "    </tr>\n",
       "  </tbody>\n",
       "</table>\n"
      ],
      "text/plain": [
       "<pandas.io.formats.style.Styler at 0x1e02b034450>"
      ]
     },
     "execution_count": 4,
     "metadata": {},
     "output_type": "execute_result"
    }
   ],
   "source": [
    "#Read sample interpretation table with columns:\n",
    "#\"Stratum\": stratum ID, 1 - nstrata; for non-stratified sampling nstrata == 1 and thus only stratum ID = 1 should be used\n",
    "#\"Reference\": yes/no target class from reference sample classification (0/1) for each sample point;\n",
    "#allowed values are -1, 0 and 1 for change area estimation (-1 indicates loss, 1 - gain, 0 - no change).\n",
    "#(optional)\"RefType\" - type labels, if the are of target class needs to be estimated separately for multiple sub-types;\n",
    "\n",
    "data = pd.read_csv('C.Sample_data.txt', sep ='\\t')\n",
    "data.head().style.hide(axis=\"index\")"
   ]
  },
  {
   "cell_type": "code",
   "execution_count": 5,
   "metadata": {},
   "outputs": [
    {
     "data": {
      "text/html": [
       "<style type=\"text/css\">\n",
       "</style>\n",
       "<table id=\"T_2f5f4\">\n",
       "  <thead>\n",
       "    <tr>\n",
       "      <th id=\"T_2f5f4_level0_col0\" class=\"col_heading level0 col0\" >Stratum</th>\n",
       "      <th id=\"T_2f5f4_level0_col1\" class=\"col_heading level0 col1\" >Reference</th>\n",
       "      <th id=\"T_2f5f4_level0_col2\" class=\"col_heading level0 col2\" >RefType</th>\n",
       "      <th id=\"T_2f5f4_level0_col3\" class=\"col_heading level0 col3\" >Ah</th>\n",
       "    </tr>\n",
       "  </thead>\n",
       "  <tbody>\n",
       "    <tr>\n",
       "      <td id=\"T_2f5f4_row0_col0\" class=\"data row0 col0\" >10</td>\n",
       "      <td id=\"T_2f5f4_row0_col1\" class=\"data row0 col1\" >1</td>\n",
       "      <td id=\"T_2f5f4_row0_col2\" class=\"data row0 col2\" >Type1</td>\n",
       "      <td id=\"T_2f5f4_row0_col3\" class=\"data row0 col3\" >161635.388000</td>\n",
       "    </tr>\n",
       "    <tr>\n",
       "      <td id=\"T_2f5f4_row1_col0\" class=\"data row1 col0\" >10</td>\n",
       "      <td id=\"T_2f5f4_row1_col1\" class=\"data row1 col1\" >1</td>\n",
       "      <td id=\"T_2f5f4_row1_col2\" class=\"data row1 col2\" >Type1</td>\n",
       "      <td id=\"T_2f5f4_row1_col3\" class=\"data row1 col3\" >161635.388000</td>\n",
       "    </tr>\n",
       "    <tr>\n",
       "      <td id=\"T_2f5f4_row2_col0\" class=\"data row2 col0\" >10</td>\n",
       "      <td id=\"T_2f5f4_row2_col1\" class=\"data row2 col1\" >1</td>\n",
       "      <td id=\"T_2f5f4_row2_col2\" class=\"data row2 col2\" >Type1</td>\n",
       "      <td id=\"T_2f5f4_row2_col3\" class=\"data row2 col3\" >161635.388000</td>\n",
       "    </tr>\n",
       "    <tr>\n",
       "      <td id=\"T_2f5f4_row3_col0\" class=\"data row3 col0\" >10</td>\n",
       "      <td id=\"T_2f5f4_row3_col1\" class=\"data row3 col1\" >1</td>\n",
       "      <td id=\"T_2f5f4_row3_col2\" class=\"data row3 col2\" >Type1</td>\n",
       "      <td id=\"T_2f5f4_row3_col3\" class=\"data row3 col3\" >161635.388000</td>\n",
       "    </tr>\n",
       "    <tr>\n",
       "      <td id=\"T_2f5f4_row4_col0\" class=\"data row4 col0\" >10</td>\n",
       "      <td id=\"T_2f5f4_row4_col1\" class=\"data row4 col1\" >1</td>\n",
       "      <td id=\"T_2f5f4_row4_col2\" class=\"data row4 col2\" >Type1</td>\n",
       "      <td id=\"T_2f5f4_row4_col3\" class=\"data row4 col3\" >161635.388000</td>\n",
       "    </tr>\n",
       "  </tbody>\n",
       "</table>\n"
      ],
      "text/plain": [
       "<pandas.io.formats.style.Styler at 0x1e02ce360d0>"
      ]
     },
     "execution_count": 5,
     "metadata": {},
     "output_type": "execute_result"
    }
   ],
   "source": [
    "#Merge data table with sample info table\n",
    "data = data.merge(strata).rename(columns = {'Area':'Ah'})\n",
    "data.head().style.hide(axis=\"index\")"
   ]
  },
  {
   "cell_type": "markdown",
   "metadata": {},
   "source": [
    "#### Functions to estimate land cover class area and its standard error"
   ]
  },
  {
   "cell_type": "code",
   "execution_count": 6,
   "metadata": {},
   "outputs": [],
   "source": [
    "def estimate_area(df: pd.DataFrame) -> float:\n",
    "    \"\"\" \n",
    "    Function to estimate target class area from sample refernce values for continous point sampling.\n",
    "    ~~~\n",
    "    Input dataframe with number of lines equal the number of sample points,\n",
    "    and the following columns:\n",
    "    \"Stratum\" (strata IDs 1 - nstrata; for simple random or systematic nstrata == 1 and thus only stratum ID = 1 should be used)\n",
    "    \"Reference\" (1 or 0 - yes/no sample point identified as target class in reference classification;\n",
    "    Reference data column could be defined as  -1 , 0 and 1 to compute net change area of a target class,\n",
    "    with -1 corresponding to loss, 0 - no change, and 1 - gain\n",
    "    \"Ah\" (stratum area, in units that are desired for area reporting)\n",
    "    ~~~\n",
    "    Returns estimated target class area in units of Ah, \n",
    "    negative area in net change computations means overall net loss of a target class\n",
    "    ~~~\n",
    "    From Tyukavina et al. (2025) \"Practical global sampling methods for estimating area and map accuracy of land cover and change\"\n",
    "    Appendix C, equation C.1\n",
    "    \"\"\"\n",
    "    #Group input dataset by stratum\n",
    "    ByStratum = df.groupby(by = ['Stratum'])\n",
    "\n",
    "    # Equation C.1\n",
    "    Ah =  ByStratum.Ah.median()\n",
    "    yh = ByStratum.Reference.mean()\n",
    "    area = (Ah * yh).sum()\n",
    "\n",
    "    return area\n"
   ]
  },
  {
   "cell_type": "code",
   "execution_count": 7,
   "metadata": {},
   "outputs": [],
   "source": [
    "def estimate_area_SE(df: pd.DataFrame) -> float:\n",
    "    \"\"\" \n",
    "    Function to estimate target class area from sample refernce values for continous point sampling.\n",
    "    ~~~\n",
    "    Input dataframe with number of lines equal the number of sample points,\n",
    "    and the following columns:\n",
    "    \"Stratum\" (strata IDs 1 - nstrata; for simple random or systematic nstrata == 1 and thus only stratum ID = 1 should be used)\n",
    "    \"Reference\" (1 or 0 - yes/no sample point identified as target class in reference classification;\n",
    "    Reference data column could be defined as  -1 , 0 and 1 to compute net change area of a target class,\n",
    "    with -1 corresponding to loss, 0 - no change, and 1 - gain\n",
    "    \"Ah\" (stratum area, in units that are desired for area reporting)\n",
    "    ~~~\n",
    "    Returns estimated SE of the target class area in in units of Ah,\n",
    "    SE is always a positive number, even if the estimated target class area is negative\n",
    "    ~~~\n",
    "    From Tyukavina et al. (2025) \"Practical global sampling methods for estimating area and map accuracy of land cover and change\"\n",
    "    Appendix C, equation C.2\n",
    "    \"\"\"\n",
    "    #Group input dataset by stratum\n",
    "    ByStratum = df.groupby(by = ['Stratum'])\n",
    "    \n",
    "    #Equation C.2\n",
    "    nh = ByStratum.Reference.count()\n",
    "    Ah = ByStratum.Ah.median()\n",
    "    Forstrata = ByStratum.Reference.var(ddof=1) / nh\n",
    "    StrataVar = Ah**2 * Forstrata\n",
    "    StrataVarSum = StrataVar.sum()\n",
    "    SE = np.sqrt(StrataVarSum)\n",
    "    \n",
    "    return SE"
   ]
  },
  {
   "cell_type": "code",
   "execution_count": 8,
   "metadata": {},
   "outputs": [
    {
     "data": {
      "text/plain": [
       "1221645.1743225136"
      ]
     },
     "execution_count": 8,
     "metadata": {},
     "output_type": "execute_result"
    }
   ],
   "source": [
    "#Estimate target class area\n",
    "estimate_area(data)"
   ]
  },
  {
   "cell_type": "code",
   "execution_count": 9,
   "metadata": {},
   "outputs": [
    {
     "data": {
      "text/plain": [
       "31740.600732646624"
      ]
     },
     "execution_count": 9,
     "metadata": {},
     "output_type": "execute_result"
    }
   ],
   "source": [
    "#Estimate standard error of the target class area\n",
    "estimate_area_SE(data)"
   ]
  }
 ],
 "metadata": {
  "kernelspec": {
   "display_name": "Python 3 (ipykernel)",
   "language": "python",
   "name": "python3"
  },
  "language_info": {
   "codemirror_mode": {
    "name": "ipython",
    "version": 3
   },
   "file_extension": ".py",
   "mimetype": "text/x-python",
   "name": "python",
   "nbconvert_exporter": "python",
   "pygments_lexer": "ipython3",
   "version": "3.11.5"
  }
 },
 "nbformat": 4,
 "nbformat_minor": 4
}
