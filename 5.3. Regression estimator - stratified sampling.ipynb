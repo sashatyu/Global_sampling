{
 "cells": [
  {
   "cell_type": "code",
   "execution_count": 1,
   "metadata": {},
   "outputs": [],
   "source": [
    "import pandas as pd\n",
    "import numpy as np\n",
    "#Packages below are required only for visualization\n",
    "import matplotlib.pyplot as plt\n",
    "from scipy import stats"
   ]
  },
  {
   "cell_type": "markdown",
   "metadata": {},
   "source": [
    "### Rergression estimator of the target class area for stratified random sampling, from Tyukavina et al. (in review) \"Options for global sampling of geographic data\""
   ]
  },
  {
   "cell_type": "markdown",
   "metadata": {},
   "source": [
    "#### Example of input data"
   ]
  },
  {
   "cell_type": "code",
   "execution_count": 2,
   "metadata": {},
   "outputs": [],
   "source": [
    "#Read strata info table with columns:\n",
    "#\"Stratum\" - stratum ID, 1 - nstrata;\n",
    "#\"Area_km2\" - stratum area in km2 or any other area units, needs to be consistend with pixel size area units in data table;\n",
    "#\"Count\" - total number of units (pixels, polygons) in each stratum\n",
    "#\"Xh\" - stratum-specific mean of the proportion (from 0 to 1) of auxiliary class (calculated accross all units in the stratum)\n",
    "strata = pd.read_csv('5.3.strata_info.txt', sep = '\\t')"
   ]
  },
  {
   "cell_type": "code",
   "execution_count": 49,
   "metadata": {},
   "outputs": [
    {
     "data": {
      "text/html": [
       "<style  type=\"text/css\" >\n",
       "</style><table id=\"T_ba95517e_2c64_11ec_83a3_d0946613b163\" ><thead>    <tr>        <th class=\"col_heading level0 col0\" >Stratum</th>        <th class=\"col_heading level0 col1\" >Area_km2</th>        <th class=\"col_heading level0 col2\" >Count</th>        <th class=\"col_heading level0 col3\" >Xh</th>    </tr></thead><tbody>\n",
       "                <tr>\n",
       "                                <td id=\"T_ba95517e_2c64_11ec_83a3_d0946613b163row0_col0\" class=\"data row0 col0\" >1</td>\n",
       "                        <td id=\"T_ba95517e_2c64_11ec_83a3_d0946613b163row0_col1\" class=\"data row0 col1\" >331763.613000</td>\n",
       "                        <td id=\"T_ba95517e_2c64_11ec_83a3_d0946613b163row0_col2\" class=\"data row0 col2\" >13314</td>\n",
       "                        <td id=\"T_ba95517e_2c64_11ec_83a3_d0946613b163row0_col3\" class=\"data row0 col3\" >0.000000</td>\n",
       "            </tr>\n",
       "            <tr>\n",
       "                                <td id=\"T_ba95517e_2c64_11ec_83a3_d0946613b163row1_col0\" class=\"data row1 col0\" >2</td>\n",
       "                        <td id=\"T_ba95517e_2c64_11ec_83a3_d0946613b163row1_col1\" class=\"data row1 col1\" >368042.987900</td>\n",
       "                        <td id=\"T_ba95517e_2c64_11ec_83a3_d0946613b163row1_col2\" class=\"data row1 col2\" >14767</td>\n",
       "                        <td id=\"T_ba95517e_2c64_11ec_83a3_d0946613b163row1_col3\" class=\"data row1 col3\" >0.003979</td>\n",
       "            </tr>\n",
       "            <tr>\n",
       "                                <td id=\"T_ba95517e_2c64_11ec_83a3_d0946613b163row2_col0\" class=\"data row2 col0\" >3</td>\n",
       "                        <td id=\"T_ba95517e_2c64_11ec_83a3_d0946613b163row2_col1\" class=\"data row2 col1\" >88783.438150</td>\n",
       "                        <td id=\"T_ba95517e_2c64_11ec_83a3_d0946613b163row2_col2\" class=\"data row2 col2\" >3563</td>\n",
       "                        <td id=\"T_ba95517e_2c64_11ec_83a3_d0946613b163row2_col3\" class=\"data row2 col3\" >0.044713</td>\n",
       "            </tr>\n",
       "    </tbody></table>"
      ],
      "text/plain": [
       "<pandas.io.formats.style.Styler at 0x1a1a788c898>"
      ]
     },
     "execution_count": 49,
     "metadata": {},
     "output_type": "execute_result"
    }
   ],
   "source": [
    "strata.head().style.hide_index()"
   ]
  },
  {
   "cell_type": "code",
   "execution_count": 3,
   "metadata": {},
   "outputs": [],
   "source": [
    "#Read sample interpretation table with columns:\n",
    "#\"Stratum\" - stratum ID, 1 - nstrata;\n",
    "#\"yi\" - proportion (from 0 to 1) of the target class from the area of the sampled unit (derived from sample interpretation);\n",
    "#\"xi\" - proportion (from 0 to 1) of the auxiliary class from the area of the sampled unit (derived from a wall-to-wall map);\n",
    "\n",
    "data = pd.read_csv('5.3.Sample_data.txt', sep ='\\t')\n",
    "\n",
    "#Merge data table with sample info table\n",
    "data = data.merge(strata)\n",
    "data = data.rename(columns = {'Area_km2':'Ah', 'Count':'Nh'})"
   ]
  },
  {
   "cell_type": "code",
   "execution_count": 4,
   "metadata": {},
   "outputs": [
    {
     "data": {
      "text/html": [
       "<style  type=\"text/css\" >\n",
       "</style><table id=\"T_b623ceb4_2de7_11ec_a66e_d0946613b163\" ><thead>    <tr>        <th class=\"col_heading level0 col0\" >Stratum</th>        <th class=\"col_heading level0 col1\" >xi</th>        <th class=\"col_heading level0 col2\" >yi</th>        <th class=\"col_heading level0 col3\" >Ah</th>        <th class=\"col_heading level0 col4\" >Nh</th>        <th class=\"col_heading level0 col5\" >Xh</th>    </tr></thead><tbody>\n",
       "                <tr>\n",
       "                                <td id=\"T_b623ceb4_2de7_11ec_a66e_d0946613b163row0_col0\" class=\"data row0 col0\" >3</td>\n",
       "                        <td id=\"T_b623ceb4_2de7_11ec_a66e_d0946613b163row0_col1\" class=\"data row0 col1\" >0.035278</td>\n",
       "                        <td id=\"T_b623ceb4_2de7_11ec_a66e_d0946613b163row0_col2\" class=\"data row0 col2\" >0.040241</td>\n",
       "                        <td id=\"T_b623ceb4_2de7_11ec_a66e_d0946613b163row0_col3\" class=\"data row0 col3\" >88783.438150</td>\n",
       "                        <td id=\"T_b623ceb4_2de7_11ec_a66e_d0946613b163row0_col4\" class=\"data row0 col4\" >3563</td>\n",
       "                        <td id=\"T_b623ceb4_2de7_11ec_a66e_d0946613b163row0_col5\" class=\"data row0 col5\" >0.044713</td>\n",
       "            </tr>\n",
       "            <tr>\n",
       "                                <td id=\"T_b623ceb4_2de7_11ec_a66e_d0946613b163row1_col0\" class=\"data row1 col0\" >3</td>\n",
       "                        <td id=\"T_b623ceb4_2de7_11ec_a66e_d0946613b163row1_col1\" class=\"data row1 col1\" >0.040433</td>\n",
       "                        <td id=\"T_b623ceb4_2de7_11ec_a66e_d0946613b163row1_col2\" class=\"data row1 col2\" >0.042939</td>\n",
       "                        <td id=\"T_b623ceb4_2de7_11ec_a66e_d0946613b163row1_col3\" class=\"data row1 col3\" >88783.438150</td>\n",
       "                        <td id=\"T_b623ceb4_2de7_11ec_a66e_d0946613b163row1_col4\" class=\"data row1 col4\" >3563</td>\n",
       "                        <td id=\"T_b623ceb4_2de7_11ec_a66e_d0946613b163row1_col5\" class=\"data row1 col5\" >0.044713</td>\n",
       "            </tr>\n",
       "            <tr>\n",
       "                                <td id=\"T_b623ceb4_2de7_11ec_a66e_d0946613b163row2_col0\" class=\"data row2 col0\" >3</td>\n",
       "                        <td id=\"T_b623ceb4_2de7_11ec_a66e_d0946613b163row2_col1\" class=\"data row2 col1\" >0.029619</td>\n",
       "                        <td id=\"T_b623ceb4_2de7_11ec_a66e_d0946613b163row2_col2\" class=\"data row2 col2\" >0.018025</td>\n",
       "                        <td id=\"T_b623ceb4_2de7_11ec_a66e_d0946613b163row2_col3\" class=\"data row2 col3\" >88783.438150</td>\n",
       "                        <td id=\"T_b623ceb4_2de7_11ec_a66e_d0946613b163row2_col4\" class=\"data row2 col4\" >3563</td>\n",
       "                        <td id=\"T_b623ceb4_2de7_11ec_a66e_d0946613b163row2_col5\" class=\"data row2 col5\" >0.044713</td>\n",
       "            </tr>\n",
       "            <tr>\n",
       "                                <td id=\"T_b623ceb4_2de7_11ec_a66e_d0946613b163row3_col0\" class=\"data row3 col0\" >3</td>\n",
       "                        <td id=\"T_b623ceb4_2de7_11ec_a66e_d0946613b163row3_col1\" class=\"data row3 col1\" >0.049816</td>\n",
       "                        <td id=\"T_b623ceb4_2de7_11ec_a66e_d0946613b163row3_col2\" class=\"data row3 col2\" >0.042608</td>\n",
       "                        <td id=\"T_b623ceb4_2de7_11ec_a66e_d0946613b163row3_col3\" class=\"data row3 col3\" >88783.438150</td>\n",
       "                        <td id=\"T_b623ceb4_2de7_11ec_a66e_d0946613b163row3_col4\" class=\"data row3 col4\" >3563</td>\n",
       "                        <td id=\"T_b623ceb4_2de7_11ec_a66e_d0946613b163row3_col5\" class=\"data row3 col5\" >0.044713</td>\n",
       "            </tr>\n",
       "            <tr>\n",
       "                                <td id=\"T_b623ceb4_2de7_11ec_a66e_d0946613b163row4_col0\" class=\"data row4 col0\" >3</td>\n",
       "                        <td id=\"T_b623ceb4_2de7_11ec_a66e_d0946613b163row4_col1\" class=\"data row4 col1\" >0.022867</td>\n",
       "                        <td id=\"T_b623ceb4_2de7_11ec_a66e_d0946613b163row4_col2\" class=\"data row4 col2\" >0.022676</td>\n",
       "                        <td id=\"T_b623ceb4_2de7_11ec_a66e_d0946613b163row4_col3\" class=\"data row4 col3\" >88783.438150</td>\n",
       "                        <td id=\"T_b623ceb4_2de7_11ec_a66e_d0946613b163row4_col4\" class=\"data row4 col4\" >3563</td>\n",
       "                        <td id=\"T_b623ceb4_2de7_11ec_a66e_d0946613b163row4_col5\" class=\"data row4 col5\" >0.044713</td>\n",
       "            </tr>\n",
       "    </tbody></table>"
      ],
      "text/plain": [
       "<pandas.io.formats.style.Styler at 0x207a81e8d68>"
      ]
     },
     "execution_count": 4,
     "metadata": {},
     "output_type": "execute_result"
    }
   ],
   "source": [
    "data.head().style.hide_index()"
   ]
  },
  {
   "cell_type": "code",
   "execution_count": 5,
   "metadata": {},
   "outputs": [
    {
     "data": {
      "image/png": "[encoded data removed]",
      "text/plain": [
       "<Figure size 432x1080 with 3 Axes>"
      ]
     },
     "metadata": {
      "needs_background": "light"
     },
     "output_type": "display_data"
    }
   ],
   "source": [
    "#Visualize linear regression between y and x in each stratum\n",
    "\n",
    "fig, axes = plt.subplots(3,figsize=(6,15), constrained_layout=True)\n",
    "nstrata = data.Stratum.max()\n",
    "\n",
    "for stratum in range(nstrata):\n",
    "    datasubs = data[data['Stratum']==stratum+1]\n",
    "    axes[stratum].scatter(datasubs.xi,datasubs.yi)\n",
    "    axes[stratum].set_xlabel('Proportion of auxiliary class')\n",
    "    axes[stratum].set_ylabel('Proportion of target class')\n",
    "    axes[stratum].set_title(f'Stratum {stratum+1}')\n",
    "\n",
    "    if datasubs.yi.max()>0 and datasubs.xi.max()>0:\n",
    "        linreg = stats.linregress(datasubs.xi, datasubs.yi)\n",
    "        axes[stratum].plot(datasubs.xi, linreg.intercept + linreg.slope*datasubs.xi, 'r')\n",
    "        axes[stratum].text(0.6,0.7, 'r² = %0.2f' % linreg.rvalue, transform=axes[stratum].transAxes)\n",
    "    \n",
    "plt.show()"
   ]
  },
  {
   "cell_type": "markdown",
   "metadata": {},
   "source": [
    "#### Functions to produce regression estimate of target class area and its standard error, strata weighted by number of units"
   ]
  },
  {
   "cell_type": "code",
   "execution_count": 6,
   "metadata": {},
   "outputs": [],
   "source": [
    "def estimate_area_reg_Nh(df: pd.DataFrame) -> float:\n",
    "    \"\"\" \n",
    "    Function to produce regression estimator of target class area from sample refernce values \n",
    "    for sampling of units (pixels/polygons) with equal area, stratified random sampling.\n",
    "    Strata weighted by their respective unit counts (Nh).\n",
    "    ~~~\n",
    "    Input dataframe with number of lines equal the number of sample pixels/polygons,\n",
    "    and the following columns:\n",
    "    \"Stratum\" (strata IDs 1 - nstrata)\n",
    "    \"yi\" (proportion (from 0 to 1) of the target class from the area of the sampled unit (derived from sample interpretation);\n",
    "    \"xi\" (proportion (from 0 to 1) of the auxiliary class from the area of the sampled unit (derived from a wall-to-wall map);\n",
    "    \"Ah\" (stratum area, km²<or any other area unit>)\n",
    "    \"Nh\" (number of units in each stratum h)\n",
    "    \"Xh\" (mean of the proportion (from 0 to 1) of auxiliary class,calculated accross all units in stratum h)\n",
    "    ~~~\n",
    "    Returns estimated target class area in units of Ah\n",
    "    ~~~\n",
    "    From Tyukavina et al. (in review) \"Options for global sampling of geographic data\"\n",
    "    Appendix, equations 41-43, 38\n",
    "    \"\"\"\n",
    "    #Compute per-stratum means of yi and xi\n",
    "    ymean = df.groupby(by = ['Stratum']).yi.mean().reset_index().rename(columns = {'yi':'ymean'})\n",
    "    df1 = df.merge(ymean)\n",
    "    xmean = df.groupby(by = ['Stratum']).xi.mean().reset_index().rename(columns = {'xi':'xmean'})\n",
    "    df1 = df1.merge(xmean)\n",
    "    \n",
    "    df1['y-ymean'] = df1['yi'] - df1['ymean']\n",
    "    df1['x-xmean'] = df1['xi'] - df1['xmean']\n",
    "    df1['(x-xmean)(y-ymean)'] = df1['y-ymean'] * df1['x-xmean']\n",
    "    df1['(x-xmean)^2'] = df1['x-xmean'] * df1['x-xmean']\n",
    "    \n",
    "    #Group by stratum\n",
    "    ByStratum = df1.groupby(by = ['Stratum'])\n",
    "    \n",
    "    #Equation 43\n",
    "    bh = (ByStratum['(x-xmean)(y-ymean)']).sum() / (ByStratum['(x-xmean)^2']).sum()\n",
    "    \n",
    "    #Equation 42\n",
    "    Xh = ByStratum['Xh'].median()\n",
    "    Yh = ByStratum['yi'].mean() + bh * (Xh - ByStratum['xi'].mean())\n",
    "    \n",
    "    #Equation 41\n",
    "    Nh = ByStratum['Nh'].median()\n",
    "    N = Nh.sum()\n",
    "    Yest = (Nh * Yh / N).sum()\n",
    "    \n",
    "    # Equation 38\n",
    "    Atot = (ByStratum['Ah'].median()).sum()\n",
    "    area = Yest * Atot\n",
    "\n",
    "    return area"
   ]
  },
  {
   "cell_type": "code",
   "execution_count": 7,
   "metadata": {},
   "outputs": [
    {
     "data": {
      "text/plain": [
       "5120.879455513931"
      ]
     },
     "execution_count": 7,
     "metadata": {},
     "output_type": "execute_result"
    }
   ],
   "source": [
    "estimate_area_reg_Nh(data)"
   ]
  },
  {
   "cell_type": "code",
   "execution_count": 8,
   "metadata": {},
   "outputs": [],
   "source": [
    "def estimate_area_SE_reg_Nh(df: pd.DataFrame) -> float:\n",
    "    \"\"\" \n",
    "    Function to estimate SE of the regression estimate of target class area from sample refernce values \n",
    "    for sampling of units (pixels/polygons) with equal area, stratified random sampling.\n",
    "    Strata weighted by their respective unit counts (Nh).\n",
    "    ~~~\n",
    "    Input dataframe with number of lines equal the number of sample pixels/polygons,\n",
    "    and the following columns:\n",
    "    \"Stratum\" (strata IDs 1 - nstrata)\n",
    "    \"yi\" (proportion (from 0 to 1) of the target class from the area of the sampled unit (derived from sample interpretation);\n",
    "    \"xi\" (proportion (from 0 to 1) of the auxiliary class from the area of the sampled unit (derived from a wall-to-wall map);\n",
    "    \"Ah\" (stratum area, km²<or any other area unit>)\n",
    "    \"Nh\" (number of units in each stratum h)\n",
    "    ~~~\n",
    "    Returns estimated standard error of target class area in units of Ah \n",
    "    ~~~\n",
    "    From Tyukavina et al. (in review) \"Options for global sampling of geographic data\"\n",
    "    Appendix, equations 40, 43 and 46\n",
    "    \"\"\"\n",
    "    #Compute per-stratum means of yi and xi\n",
    "    ymean = df.groupby(by = ['Stratum']).yi.mean().reset_index().rename(columns = {'yi':'ymean'})\n",
    "    df1 = df.merge(ymean)\n",
    "    xmean = df.groupby(by = ['Stratum']).xi.mean().reset_index().rename(columns = {'xi':'xmean'})\n",
    "    df1 = df1.merge(xmean)\n",
    "    \n",
    "    df1['y-ymean'] = df1['yi'] - df1['ymean']\n",
    "    df1['x-xmean'] = df1['xi'] - df1['xmean']\n",
    "    df1['(y-ymean)^2'] = df1['y-ymean'] * df1['y-ymean']\n",
    "    df1['(x-xmean)^2'] = df1['x-xmean'] * df1['x-xmean']\n",
    "    df1['(x-xmean)(y-ymean)'] = df1['y-ymean'] * df1['x-xmean']\n",
    "    \n",
    "    #Group by stratum\n",
    "    ByStratum = df1.groupby(by = ['Stratum'])\n",
    "    \n",
    "    #Equation 43\n",
    "    bh = (ByStratum['(x-xmean)(y-ymean)']).sum() / (ByStratum['(x-xmean)^2']).sum()\n",
    "    \n",
    "    #Equation 46\n",
    "    Nh = ByStratum['Nh'].median()\n",
    "    N = Nh.sum()\n",
    "    nh = ByStratum['yi'].count()\n",
    "    ForVar = (ByStratum['(y-ymean)^2']).sum() - bh * bh * (ByStratum['(x-xmean)^2']).sum()\n",
    "    Var = ForVar * Nh * Nh * (1 - nh/Nh) / (nh * (nh - 2)) \n",
    "    SumVar = Var.sum() / N / N\n",
    " \n",
    "    # Equation 40\n",
    "    Atot = (ByStratum['Ah'].median()).sum()\n",
    "    SE = np.sqrt(SumVar) * Atot\n",
    "\n",
    "    return SE"
   ]
  },
  {
   "cell_type": "code",
   "execution_count": 9,
   "metadata": {},
   "outputs": [
    {
     "data": {
      "text/plain": [
       "267.27154793958357"
      ]
     },
     "execution_count": 9,
     "metadata": {},
     "output_type": "execute_result"
    }
   ],
   "source": [
    "estimate_area_SE_reg_Nh(data)"
   ]
  },
  {
   "cell_type": "markdown",
   "metadata": {},
   "source": [
    "#### Functions to produce regression estimate of target class area and its standard error, strata weighted by area"
   ]
  },
  {
   "cell_type": "code",
   "execution_count": 10,
   "metadata": {},
   "outputs": [],
   "source": [
    "def estimate_area_reg_Ah(df: pd.DataFrame) -> float:\n",
    "    \"\"\" \n",
    "    Function to produce regression estimator of target class area from sample refernce values \n",
    "    for sampling of units (pixels/polygons) with equal area, stratified random sampling.\n",
    "    Strata weighted by their respective areas (Ah).\n",
    "    ~~~\n",
    "    Input dataframe with number of lines equal the number of sample pixels/polygons,\n",
    "    and the following columns:\n",
    "    \"Stratum\" (strata IDs 1 - nstrata)\n",
    "    \"yi\" (proportion (from 0 to 1) of the target class from the area of the sampled unit (derived from sample interpretation);\n",
    "    \"xi\" (proportion (from 0 to 1) of the auxiliary class from the area of the sampled unit (derived from a wall-to-wall map);\n",
    "    \"Ah\" (stratum area, km²<or any other area unit>)\n",
    "    \"Xh\" (mean of the proportion (from 0 to 1) of auxiliary class,calculated accross all units in stratum h)\n",
    "    ~~~\n",
    "    Returns estimated target class area in units of Ah\n",
    "    ~~~\n",
    "    From Tyukavina et al. (in review) \"Options for global sampling of geographic data\"\n",
    "    Appendix, equations 42, 43 and 45\n",
    "    \"\"\"\n",
    "    #Compute per-stratum means of yi and xi\n",
    "    ymean = df.groupby(by = ['Stratum']).yi.mean().reset_index().rename(columns = {'yi':'ymean'})\n",
    "    df1 = df.merge(ymean)\n",
    "    xmean = df.groupby(by = ['Stratum']).xi.mean().reset_index().rename(columns = {'xi':'xmean'})\n",
    "    df1 = df1.merge(xmean)\n",
    "    \n",
    "    df1['y-ymean'] = df1['yi'] - df1['ymean']\n",
    "    df1['x-xmean'] = df1['xi'] - df1['xmean']\n",
    "    df1['(x-xmean)(y-ymean)'] = df1['y-ymean'] * df1['x-xmean']\n",
    "    df1['(x-xmean)^2'] = df1['x-xmean'] * df1['x-xmean']\n",
    "    \n",
    "    #Group by stratum\n",
    "    ByStratum = df1.groupby(by = ['Stratum'])\n",
    "    \n",
    "    #Equation 43\n",
    "    bh = (ByStratum['(x-xmean)(y-ymean)']).sum() / (ByStratum['(x-xmean)^2']).sum()\n",
    "    \n",
    "    #Equation 42\n",
    "    Xh = ByStratum['Xh'].median()\n",
    "    Yh = ByStratum['yi'].mean() + bh * (Xh - ByStratum['xi'].mean())\n",
    "    \n",
    "    #Equation 45\n",
    "    Ah = ByStratum['Ah'].median()\n",
    "    area = (Yh * Ah).sum()\n",
    "\n",
    "    return area"
   ]
  },
  {
   "cell_type": "code",
   "execution_count": 11,
   "metadata": {},
   "outputs": [
    {
     "data": {
      "text/plain": [
       "5120.71214582562"
      ]
     },
     "execution_count": 11,
     "metadata": {},
     "output_type": "execute_result"
    }
   ],
   "source": [
    "estimate_area_reg_Ah(data)"
   ]
  },
  {
   "cell_type": "code",
   "execution_count": 12,
   "metadata": {},
   "outputs": [],
   "source": [
    "def estimate_area_SE_reg_Ah(df: pd.DataFrame) -> float:\n",
    "    \"\"\" \n",
    "    Function to estimate SE of the regression estimate of target class area from sample refernce values \n",
    "    for sampling of units (pixels/polygons) with equal area, stratified random sampling.\n",
    "    Strata weighted by their respective areas (Ah).\n",
    "    ~~~\n",
    "    Input dataframe with number of lines equal the number of sample pixels/polygons,\n",
    "    and the following columns:\n",
    "    \"Stratum\" (strata IDs 1 - nstrata)\n",
    "    \"yi\" (proportion (from 0 to 1) of the target class from the area of the sampled unit (derived from sample interpretation);\n",
    "    \"xi\" (proportion (from 0 to 1) of the auxiliary class from the area of the sampled unit (derived from a wall-to-wall map);\n",
    "    \"Ah\" (stratum area, km²<or any other area unit>)\n",
    "    \"Nh\" (number of units in each stratum h)\n",
    "    ~~~\n",
    "    Returns estimated standard error of target class area in units of Ah \n",
    "    ~~~\n",
    "    From Tyukavina et al. (in review) \"Options for global sampling of geographic data\"\n",
    "    Appendix, equations 40, 43 and 46\n",
    "    \"\"\"\n",
    "    #Compute per-stratum means of yi and xi\n",
    "    ymean = df.groupby(by = ['Stratum']).yi.mean().reset_index().rename(columns = {'yi':'ymean'})\n",
    "    df1 = df.merge(ymean)\n",
    "    xmean = df.groupby(by = ['Stratum']).xi.mean().reset_index().rename(columns = {'xi':'xmean'})\n",
    "    df1 = df1.merge(xmean)\n",
    "    \n",
    "    df1['y-ymean'] = df1['yi'] - df1['ymean']\n",
    "    df1['x-xmean'] = df1['xi'] - df1['xmean']\n",
    "    df1['(y-ymean)^2'] = df1['y-ymean'] * df1['y-ymean']\n",
    "    df1['(x-xmean)^2'] = df1['x-xmean'] * df1['x-xmean']\n",
    "    df1['(x-xmean)(y-ymean)'] = df1['y-ymean'] * df1['x-xmean']\n",
    "    \n",
    "    #Group by stratum\n",
    "    ByStratum = df1.groupby(by = ['Stratum'])\n",
    "    \n",
    "    #Equation 43\n",
    "    bh = (ByStratum['(x-xmean)(y-ymean)']).sum() / (ByStratum['(x-xmean)^2']).sum()\n",
    "    \n",
    "    #Equations 47, modified to estimate variance of the area estimate by eliminating division by Atot^2\n",
    "    Nh = ByStratum['Nh'].median()\n",
    "    Ah = ByStratum['Ah'].median()\n",
    "    N = Nh.sum()\n",
    "    nh = ByStratum['yi'].count()\n",
    "    ForVar = (ByStratum['(y-ymean)^2']).sum() - bh * bh * (ByStratum['(x-xmean)^2']).sum()\n",
    "    Var = ForVar * Ah * Ah * (1 - nh/Nh) / (nh * (nh - 2)) \n",
    "    SumVar = Var.sum()\n",
    " \n",
    "    # Equation 40 without multiplication by Atot, since variance is already in squared area units from previous step\n",
    "    SE = np.sqrt(SumVar)\n",
    "\n",
    "    return SE"
   ]
  },
  {
   "cell_type": "code",
   "execution_count": 13,
   "metadata": {},
   "outputs": [
    {
     "data": {
      "text/plain": [
       "267.28810995893843"
      ]
     },
     "execution_count": 13,
     "metadata": {},
     "output_type": "execute_result"
    }
   ],
   "source": [
    "estimate_area_SE_reg_Ah(data)"
   ]
  },
  {
   "cell_type": "code",
   "execution_count": null,
   "metadata": {},
   "outputs": [],
   "source": []
  }
 ],
 "metadata": {
  "kernelspec": {
   "display_name": "Python 3",
   "language": "python",
   "name": "python3"
  },
  "language_info": {
   "codemirror_mode": {
    "name": "ipython",
    "version": 3
   },
   "file_extension": ".py",
   "mimetype": "text/x-python",
   "name": "python",
   "nbconvert_exporter": "python",
   "pygments_lexer": "ipython3",
   "version": "3.7.3"
  }
 },
 "nbformat": 4,
 "nbformat_minor": 4
}
