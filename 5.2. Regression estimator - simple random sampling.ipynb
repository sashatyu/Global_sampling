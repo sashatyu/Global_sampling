{
 "cells": [
  {
   "cell_type": "code",
   "execution_count": 1,
   "metadata": {},
   "outputs": [],
   "source": [
    "import pandas as pd\n",
    "import numpy as np\n",
    "#Packages below are required only for visualization\n",
    "import matplotlib.pyplot as plt\n",
    "from scipy import stats"
   ]
  },
  {
   "cell_type": "markdown",
   "metadata": {},
   "source": [
    "### Rergression estimator of the target class area for simple random sampling, from Tyukavina et al. (in review) \"Options for global sampling of geographic data\""
   ]
  },
  {
   "cell_type": "markdown",
   "metadata": {},
   "source": [
    "#### Example of input data"
   ]
  },
  {
   "cell_type": "code",
   "execution_count": 2,
   "metadata": {},
   "outputs": [],
   "source": [
    "#Define the area of the sampling region (e.g. in km²)\n",
    "Atot = 16775135.2\n",
    "#Define total number of sampling units\n",
    "N = 27374\n",
    "#Define population mean of the proportion (from 0 to 1) of auxiliary class\n",
    "X = 0.028408947"
   ]
  },
  {
   "cell_type": "code",
   "execution_count": 3,
   "metadata": {},
   "outputs": [],
   "source": [
    "#Read sample interpretation table with columns:\n",
    "#\"yi\" - proportion (from 0 to 1) of the target class from the area of the sampled unit (derived from sample interpretation);\n",
    "#\"xi\" - proportion (from 0 to 1) of the auxiliary class from the area of the sampled unit (derived from a wall-to-wall map);\n",
    "\n",
    "data = pd.read_csv('5.2.Sample_data.txt', sep ='\\t')"
   ]
  },
  {
   "cell_type": "code",
   "execution_count": 4,
   "metadata": {},
   "outputs": [
    {
     "data": {
      "text/html": [
       "<style  type=\"text/css\" >\n",
       "</style><table id=\"T_9405440a_2de7_11ec_a3a2_d0946613b163\" ><thead>    <tr>        <th class=\"col_heading level0 col0\" >yi</th>        <th class=\"col_heading level0 col1\" >xi</th>    </tr></thead><tbody>\n",
       "                <tr>\n",
       "                                <td id=\"T_9405440a_2de7_11ec_a3a2_d0946613b163row0_col0\" class=\"data row0 col0\" >0.135802</td>\n",
       "                        <td id=\"T_9405440a_2de7_11ec_a3a2_d0946613b163row0_col1\" class=\"data row0 col1\" >0.009753</td>\n",
       "            </tr>\n",
       "            <tr>\n",
       "                                <td id=\"T_9405440a_2de7_11ec_a3a2_d0946613b163row1_col0\" class=\"data row1 col0\" >0.220494</td>\n",
       "                        <td id=\"T_9405440a_2de7_11ec_a3a2_d0946613b163row1_col1\" class=\"data row1 col1\" >0.040618</td>\n",
       "            </tr>\n",
       "            <tr>\n",
       "                                <td id=\"T_9405440a_2de7_11ec_a3a2_d0946613b163row2_col0\" class=\"data row2 col0\" >0.007901</td>\n",
       "                        <td id=\"T_9405440a_2de7_11ec_a3a2_d0946613b163row2_col1\" class=\"data row2 col1\" >0.004321</td>\n",
       "            </tr>\n",
       "            <tr>\n",
       "                                <td id=\"T_9405440a_2de7_11ec_a3a2_d0946613b163row3_col0\" class=\"data row3 col0\" >0.081481</td>\n",
       "                        <td id=\"T_9405440a_2de7_11ec_a3a2_d0946613b163row3_col1\" class=\"data row3 col1\" >0.024692</td>\n",
       "            </tr>\n",
       "            <tr>\n",
       "                                <td id=\"T_9405440a_2de7_11ec_a3a2_d0946613b163row4_col0\" class=\"data row4 col0\" >0.001605</td>\n",
       "                        <td id=\"T_9405440a_2de7_11ec_a3a2_d0946613b163row4_col1\" class=\"data row4 col1\" >0.000247</td>\n",
       "            </tr>\n",
       "    </tbody></table>"
      ],
      "text/plain": [
       "<pandas.io.formats.style.Styler at 0x23f87333400>"
      ]
     },
     "execution_count": 4,
     "metadata": {},
     "output_type": "execute_result"
    }
   ],
   "source": [
    "data.head().style.hide_index()"
   ]
  },
  {
   "cell_type": "code",
   "execution_count": 5,
   "metadata": {},
   "outputs": [
    {
     "data": {
      "image/png": "[encoded data removed]",
      "text/plain": [
       "<Figure size 432x288 with 1 Axes>"
      ]
     },
     "metadata": {
      "needs_background": "light"
     },
     "output_type": "display_data"
    }
   ],
   "source": [
    "#Visualize linear regression between y and x\n",
    "\n",
    "plt.scatter(data.xi,data.yi)\n",
    "plt.xlabel('Proportion of auxiliary class')\n",
    "plt.ylabel('Proportion of target class')\n",
    "\n",
    "linreg = stats.linregress(data.xi, data.yi)\n",
    "plt.plot(data.xi, linreg.intercept + linreg.slope*data.xi, 'r')\n",
    "\n",
    "plt.text(0.25,0.4, 'r² = %0.2f' % linreg.rvalue)\n",
    "plt.show()"
   ]
  },
  {
   "cell_type": "markdown",
   "metadata": {},
   "source": [
    "#### Functions to produce regression estimate of target class area and its standard error"
   ]
  },
  {
   "cell_type": "code",
   "execution_count": 6,
   "metadata": {},
   "outputs": [],
   "source": [
    "def estimate_area_reg(df: pd.DataFrame, Atot: float, X: float) -> float:\n",
    "    \"\"\" \n",
    "    Function to produce regression estimator of target class area from sample refernce values \n",
    "    for sampling of units (pixels/polygons) with equal area, simple random sampling.\n",
    "    ~~~\n",
    "    Input variables:\n",
    "    Atot (area of the sampling region, e.g. in km²)\n",
    "    X (population mean of the proportion (from 0 to 1) of auxiliary class)\n",
    "    \n",
    "    Input dataframe with number of lines equal the number of sample pixels/polygons,\n",
    "    and the following columns:\n",
    "    \"yi\" (proportion (from 0 to 1) of the target class from the area of the sampled unit (derived from sample interpretation);\n",
    "    \"xi\" (proportion (from 0 to 1) of the auxiliary class from the area of the sampled unit (derived from a wall-to-wall map);\n",
    "    ~~~\n",
    "    Returns estimated target class area in units of Atot, \n",
    "    ~~~\n",
    "    From Tyukavina et al. (in review) \"Options for global sampling of geographic data\"\n",
    "    Appendix, equations 36-38\n",
    "    \"\"\"\n",
    "    df['y-ymean'] = df['yi'] - df['yi'].mean()\n",
    "    df['x-ymean'] = df['xi'] - df['xi'].mean()\n",
    "    \n",
    "    #Equation 37\n",
    "    b = (df['y-ymean'] * df['x-ymean']).sum() / (df['x-ymean'] * df['x-ymean']).sum()\n",
    "    \n",
    "    #Equation 36\n",
    "    Yest = df['yi'].mean() + b * (X - df['xi'].mean())\n",
    "    \n",
    "    # Equation 38\n",
    "    area = Yest * Atot\n",
    "\n",
    "    return area"
   ]
  },
  {
   "cell_type": "code",
   "execution_count": 7,
   "metadata": {},
   "outputs": [
    {
     "data": {
      "text/plain": [
       "1086017.079197921"
      ]
     },
     "execution_count": 7,
     "metadata": {},
     "output_type": "execute_result"
    }
   ],
   "source": [
    "estimate_area_reg(data, Atot, X)"
   ]
  },
  {
   "cell_type": "code",
   "execution_count": 8,
   "metadata": {},
   "outputs": [],
   "source": [
    "def estimate_area_SE_reg(df: pd.DataFrame, Atot: float, N: int) -> float:\n",
    "    \"\"\" \n",
    "    Function to estimate SE of the regression estimate of target class area from sample refernce values \n",
    "    for sampling of units (pixels/polygons) with equal area, simple random sampling.\n",
    "    ~~~\n",
    "    Input variables:\n",
    "    Atot (area of the sampling region, e.g. in km²)\n",
    "    N (total number of sampling units)\n",
    "    \n",
    "    Input dataframe with number of lines equal the number of sample pixels/polygons,\n",
    "    and the following columns:\n",
    "    \"yi\" (proportion (from 0 to 1) of the target class from the area of the sampled unit (derived from sample interpretation);\n",
    "    \"xi\" (proportion (from 0 to 1) of the auxiliary class from the area of the sampled unit (derived from a wall-to-wall map);\n",
    "    ~~~\n",
    "    Returns estimated standard error of target class area in units of Atot, \n",
    "    ~~~\n",
    "    From Tyukavina et al. (in review) \"Options for global sampling of geographic data\"\n",
    "    Appendix, equations 39 and 40\n",
    "    \"\"\"\n",
    "    df['y-ymean'] = df['yi'] - df['yi'].mean()\n",
    "    df['x-ymean'] = df['xi'] - df['xi'].mean()\n",
    "    \n",
    "    #Equation 39\n",
    "    ForVar = (df['y-ymean'] * df['y-ymean']).sum() - (df['y-ymean'] * df['x-ymean']).sum() * (df['y-ymean'] * df['x-ymean']).sum() / (df['x-ymean'] * df['x-ymean']).sum()\n",
    "    n = df['yi'].count()\n",
    "    Var = ForVar * (1 - n/N) / (n * (n-2))\n",
    " \n",
    "    # Equation 40\n",
    "    SE = np.sqrt(Var) * Atot\n",
    "\n",
    "    return SE"
   ]
  },
  {
   "cell_type": "code",
   "execution_count": 9,
   "metadata": {},
   "outputs": [
    {
     "data": {
      "text/plain": [
       "106327.70099918565"
      ]
     },
     "execution_count": 9,
     "metadata": {},
     "output_type": "execute_result"
    }
   ],
   "source": [
    "estimate_area_SE_reg(data, Atot, N)"
   ]
  },
  {
   "cell_type": "markdown",
   "metadata": {},
   "source": [
    "#### Direct estimate of the target class area (for comparison with regression estimate)"
   ]
  },
  {
   "cell_type": "code",
   "execution_count": 10,
   "metadata": {},
   "outputs": [],
   "source": [
    "def estimate_area_dir(df: pd.DataFrame, Atot: float) -> float:\n",
    "    \"\"\" \n",
    "    Function to produce direct estimator of target class area from sample refernce values \n",
    "    for sampling of units (pixels/polygons) with equal area, simple random sampling.\n",
    "    ~~~\n",
    "    Input variables:\n",
    "    Atot (area of the sampling region, e.g. in km²)\n",
    "    Input dataframe with number of lines equal the number of sample pixels/polygons,\n",
    "    and the following column:\n",
    "    \"yi\" (proportion (from 0 to 1) of the target class from the area of the sampled unit (derived from sample interpretation)\n",
    "    ~~~\n",
    "    Returns estimated target class area in units of Atot, \n",
    "    ~~~\n",
    "    From Cochran, 1977 (Sampling techniques), Chapter 2\n",
    "    \"\"\"\n",
    "    area = df['yi'].mean() * Atot\n",
    "\n",
    "    return area"
   ]
  },
  {
   "cell_type": "code",
   "execution_count": 11,
   "metadata": {},
   "outputs": [
    {
     "data": {
      "text/plain": [
       "1116448.8543194276"
      ]
     },
     "execution_count": 11,
     "metadata": {},
     "output_type": "execute_result"
    }
   ],
   "source": [
    "estimate_area_dir(data, Atot)"
   ]
  },
  {
   "cell_type": "code",
   "execution_count": 12,
   "metadata": {},
   "outputs": [],
   "source": [
    "def estimate_area_SE_dir(df: pd.DataFrame, Atot: float, N: int) -> float:\n",
    "    \"\"\" \n",
    "    Function to estimate SE of the direct estimate of target class area from sample refernce values \n",
    "    for sampling of units (pixels/polygons) with equal area, simple random sampling.\n",
    "    ~~~\n",
    "    Input variables:\n",
    "    Atot (area of the sampling region, e.g. in km²)\n",
    "    N (total number of sampling units)\n",
    "    \n",
    "    Input dataframe with number of lines equal the number of sample pixels/polygons,\n",
    "    and the following columns:\n",
    "    \"yi\" (proportion (from 0 to 1) of the target class from the area of the sampled unit (derived from sample interpretation)\n",
    "    ~~~\n",
    "    Returns estimated standard error of target class area in units of Atot, \n",
    "    ~~~\n",
    "    From Cochran, 1977 (Sampling techniques), equation 2.20\n",
    "    \"\"\"\n",
    "    n = df['yi'].count()\n",
    "    Var = df['yi'].var(ddof=1) / n * (1 - n/N)\n",
    "    \n",
    "    SE = np.sqrt(Var) * Atot\n",
    "\n",
    "    return SE"
   ]
  },
  {
   "cell_type": "code",
   "execution_count": 13,
   "metadata": {},
   "outputs": [
    {
     "data": {
      "text/plain": [
       "205535.11323542707"
      ]
     },
     "execution_count": 13,
     "metadata": {},
     "output_type": "execute_result"
    }
   ],
   "source": [
    "estimate_area_SE_dir(data, Atot, N)"
   ]
  },
  {
   "cell_type": "code",
   "execution_count": null,
   "metadata": {},
   "outputs": [],
   "source": []
  }
 ],
 "metadata": {
  "kernelspec": {
   "display_name": "Python 3",
   "language": "python",
   "name": "python3"
  },
  "language_info": {
   "codemirror_mode": {
    "name": "ipython",
    "version": 3
   },
   "file_extension": ".py",
   "mimetype": "text/x-python",
   "name": "python",
   "nbconvert_exporter": "python",
   "pygments_lexer": "ipython3",
   "version": "3.7.3"
  }
 },
 "nbformat": 4,
 "nbformat_minor": 4
}
